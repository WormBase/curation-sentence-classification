{
 "cells": [
  {
   "cell_type": "code",
   "execution_count": 2,
   "metadata": {
    "ExecuteTime": {
     "start_time": "2023-04-06T16:01:30.233267Z",
     "end_time": "2023-04-06T16:01:31.014125Z"
    }
   },
   "outputs": [],
   "source": [
    "from sentence_classification.preprocess import clean_sentences_with_papid, read_sentences_from_file_with_papid\n",
    "from random import shuffle"
   ]
  },
  {
   "cell_type": "code",
   "execution_count": 11,
   "metadata": {
    "ExecuteTime": {
     "start_time": "2023-04-06T18:00:14.726438Z",
     "end_time": "2023-04-06T18:00:40.405820Z"
    }
   },
   "outputs": [],
   "source": [
    "expression_file_content = [line.split(\"\\t\") for line in open(\"../gold_standard_sentences/expression.tsv\")]\n",
    "expression_data = expression_file_content[1:]\n",
    "expression_data = [row for row in expression_data if row[2]]\n",
    "\n",
    "kinaseact_file_content = [line.split(\"\\t\") for line in open(\"../gold_standard_sentences/kinase_activity.tsv\")]\n",
    "kinaseact_data = kinaseact_file_content[1:]\n",
    "kinaseact_data = [row for row in kinaseact_data if row[2]]\n",
    "\n",
    "cleaned_expression_data = []\n",
    "for row in expression_data:\n",
    "    cleaned_expression_data.append([*row[0:3], \"c_elegans\" if row[5] != \"\" else \"mixed\" if row[6] != \"\" else \"other\", \"positive\" if row[22] != \"\" else \"negative\" if row[23] != \"\" else \"both\" if row[24] != \"\" else \"neutral\", 0 if row[14] != \"\" else 1 if row[15] != \"\" else 2 if row[16] != \"\" else 3 if row[17] != \"\" else 4 if row[18] != \"\" else 5 if row[19] != \"\" else 6 if row[20] != \"\" else 7, ])\n",
    "\n",
    "cleaned_kinaseact_data = []\n",
    "for row in kinaseact_data:\n",
    "    cleaned_kinaseact_data.append([*row[0:3], \"c_elegans\" if row[5] != \"\" else \"mixed\" if row[6] != \"\" else \"other\" if row[7] != \"\" else \"no_species\", \"positive\" if row[22] != \"\" else \"negative\" if row[23] != \"\" else \"both\" if row[24] != \"\" else \"neutral\", 0 if row[14] != \"\" else 1 if row[15] != \"\" else 2 if row[16] != \"\" else 3 if row[17] != \"\" else 4 if row[18] != \"\" else 5 if row[19] != \"\" else 6 if row[20] != \"\" else 7])\n",
    "\n",
    "cleaned_expression_data_orig = cleaned_expression_data[:]\n",
    "cleaned_kinaseact_data_orig = cleaned_kinaseact_data[:]\n",
    "\n",
    "neg_sent_otherexpr = read_sentences_from_file_with_papid(\"../extracted_sentences/neg_sentences_otherexpr.txt\")\n",
    "neg_sent_otherexpr_cleaned = clean_sentences_with_papid(neg_sent_otherexpr)\n",
    "\n",
    "cleaned_expression_data.extend([\"\", \"WBPaper\" + row[0], row[1], \"\", \"\", 8] for row in neg_sent_otherexpr_cleaned)\n",
    "neg_sent_kineaseact = read_sentences_from_file_with_papid(\"../extracted_sentences/neg_sentences_kinase_activity.txt\")\n",
    "neg_sent_kineaseact_cleaned = clean_sentences_with_papid(neg_sent_kineaseact)\n",
    "cleaned_kinaseact_data.extend([\"\", \"WBPaper\" + row[0], row[1], \"\", \"\", 8] for row in neg_sent_kineaseact_cleaned)\n",
    "\n",
    "with open(\"../gold_standard_sentences/clean_with_negative_otherexpr.csv\", \"w\") as f:\n",
    "    for line in [\"\\t\".join(map(str, line_arr)) for line_arr in cleaned_expression_data]:\n",
    "        f.write(line + \"\\n\")\n",
    "\n",
    "with open(\"../gold_standard_sentences/clean_with_negative_kinaseact.csv\", \"w\") as f:\n",
    "    for line in [\"\\t\".join(map(str, line_arr)) for line_arr in cleaned_kinaseact_data]:\n",
    "        f.write(line + \"\\n\")"
   ]
  },
  {
   "cell_type": "code",
   "execution_count": null,
   "outputs": [],
   "source": [],
   "metadata": {
    "collapsed": false
   }
  }
 ],
 "metadata": {
  "kernelspec": {
   "display_name": "Python 3 (ipykernel)",
   "language": "python",
   "name": "python3"
  },
  "language_info": {
   "codemirror_mode": {
    "name": "ipython",
    "version": 3
   },
   "file_extension": ".py",
   "mimetype": "text/x-python",
   "name": "python",
   "nbconvert_exporter": "python",
   "pygments_lexer": "ipython3",
   "version": "3.8.8"
  }
 },
 "nbformat": 4,
 "nbformat_minor": 1
}
