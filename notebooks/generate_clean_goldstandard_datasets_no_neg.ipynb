{
 "cells": [
  {
   "cell_type": "code",
   "metadata": {
    "ExecuteTime": {
     "end_time": "2024-11-18T18:39:00.594781Z",
     "start_time": "2024-11-18T18:39:00.589492Z"
    }
   },
   "source": "from sentence_classification.preprocess import clean_sentence",
   "outputs": [],
   "execution_count": 3
  },
  {
   "cell_type": "code",
   "metadata": {
    "ExecuteTime": {
     "end_time": "2024-11-18T18:43:16.719136Z",
     "start_time": "2024-11-18T18:42:44.916828Z"
    }
   },
   "source": [
    "expression_file_content = [line.strip().split(\"\\t\") for line in open(\"../gold_standard_sentences/expression.tsv\")]\n",
    "expression_data = expression_file_content[1:]\n",
    "\n",
    "kinaseact_file_content = [line.strip().split(\"\\t\") for line in open(\"../gold_standard_sentences/kinase_activity.tsv\")]\n",
    "kinaseact_data = kinaseact_file_content[1:]\n",
    "\n",
    "cleaned_expression_data = []\n",
    "for row in expression_data:\n",
    "    if row[6]:\n",
    "        cleaned_expression_data.append([row[2], clean_sentence(row[6]), 0 if row[7] != \"\" else 1 if row[8] != \"\" else 2 if row[9] == \"Y\" else 3 if row[10] == \"Y\" else 4 if row[11] == \"Y\" else 5 if row[12] == \"Y\" else 6 if row[13] == \"Y\" else 7 if row[14] == \"Y\" else 8 if row[15] == \"Y\" else 9])\n",
    "\n",
    "cleaned_kinaseact_data = []\n",
    "for row in kinaseact_data:\n",
    "    if row[6]:\n",
    "        cleaned_kinaseact_data.append([row[2], clean_sentence(row[6]), 0 if row[7] == \"Y\" else 1 if row[8] == \"Y\" else 2 if row[9] == \"Y\" else 3 if row[10] == \"Y\" else 4 if row[11] == \"Y\" else 5 if row[12] == \"Y\" else 6 if row[13] == \"Y\" else 7 if row[14] == \"Y\" else 8 if row[15] == \"Y\" else 9])\n",
    "\n",
    "with open(\"../gold_standard_sentences/GROBID_clean_without_negative_otherexpr_with_PMIDs.csv\", \"w\") as f:\n",
    "    for line in [\"\\t\".join(map(str, line_arr)) for line_arr in cleaned_expression_data]:\n",
    "        f.write(line + \"\\n\")\n",
    "\n",
    "with open(\"../gold_standard_sentences/GROBID_clean_without_negative_kinaseact_with_PMIDs.csv\", \"w\") as f:\n",
    "    for line in [\"\\t\".join(map(str, line_arr)) for line_arr in cleaned_kinaseact_data]:\n",
    "        f.write(line + \"\\n\")"
   ],
   "outputs": [],
   "execution_count": 7
  }
 ],
 "metadata": {
  "kernelspec": {
   "display_name": "Python 3 (ipykernel)",
   "language": "python",
   "name": "python3"
  },
  "language_info": {
   "codemirror_mode": {
    "name": "ipython",
    "version": 3
   },
   "file_extension": ".py",
   "mimetype": "text/x-python",
   "name": "python",
   "nbconvert_exporter": "python",
   "pygments_lexer": "ipython3",
   "version": "3.8.8"
  }
 },
 "nbformat": 4,
 "nbformat_minor": 1
}
