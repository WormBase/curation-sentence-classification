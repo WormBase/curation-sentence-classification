{
 "cells": [
  {
   "metadata": {},
   "cell_type": "markdown",
   "source": "### Positive sentences from gold standard",
   "id": "fcc9cdeb06a1742b"
  },
  {
   "metadata": {
    "ExecuteTime": {
     "end_time": "2024-05-03T23:38:25.235291Z",
     "start_time": "2024-05-03T23:38:25.213316Z"
    }
   },
   "cell_type": "code",
   "source": [
    "expression_gold_sent_data = [line.strip().split(\"\\t\") for line in open(\"../../gold_standard_sentences/GROBID_clean_without_negative_otherexpr.csv\")]\n",
    "expression_gold_sent_data_cleaned = [[row[0], int(row[1]), row[2]] for row in expression_gold_sent_data]\n",
    "expression_gold_sent_data_3_classes = [(row[0], 1 if row[1] in [0, 3] else 0, 1 if row[1] in [0, 1, 3, 4] else 0, 1 if row[1] < 9 else 0, \"GOLD\") for row in expression_gold_sent_data_cleaned]\n",
    "\n",
    "kinaseact_gold_sent_data = [line.strip().split(\"\\t\") for line in open(\"../../gold_standard_sentences/GROBID_clean_without_negative_kinaseact.csv\")]\n",
    "kinaseact_gold_sent_data_cleaned = [[row[0], int(row[1]), row[2]] for row in kinaseact_gold_sent_data]\n",
    "kinaseact_gold_sent_data_3_classes = [(row[0], 1 if row[1] in [0, 3] else 0, 1 if row[1] in [0, 1, 3, 4] else 0, 1 if row[1] < 9 else 0, \"GOLD\") for row in kinaseact_gold_sent_data_cleaned]"
   ],
   "id": "96a9542ecb82dbcd",
   "outputs": [],
   "execution_count": 1
  },
  {
   "metadata": {},
   "cell_type": "markdown",
   "source": "### Positive and negative from 1000 random sentences",
   "id": "21d365fc045bef39"
  },
  {
   "metadata": {
    "ExecuteTime": {
     "end_time": "2024-05-03T23:38:25.277778Z",
     "start_time": "2024-05-03T23:38:25.236831Z"
    }
   },
   "cell_type": "code",
   "source": [
    "expression_validation_data = [line.strip().split(\"\\t\") for line in open(\"../../validation sentences/expression_1000.tsv\")]\n",
    "expression_validation_data_3_classes = [(row[1], int(row[7] == \"TRUE\"), int(row[8] == \"TRUE\"), int(row[9] == \"TRUE\"), \"1000\") for row in expression_validation_data[1:] if len(row) > 10 and row[10].lower() not in [\"y\", \"yes\", \"true\", \"t\"]][:1000]\n",
    "\n",
    "kinaseact_validation_data = [line.strip().split(\"\\t\") for line in open(\"../../validation sentences/kinaseact_1000.tsv\")]\n",
    "kinaseact_validation_data_3_classes = [(row[1], int(row[5] == \"TRUE\"), int(row[6] == \"TRUE\"), int(row[7] == \"TRUE\"), \"1000\") for row in kinaseact_validation_data[1:] if len(row) > 5 and (len(row) < 9 or row[8] != \"YES\")][:1000]"
   ],
   "id": "caaf898d35a34beb",
   "outputs": [],
   "execution_count": 2
  },
  {
   "metadata": {},
   "cell_type": "markdown",
   "source": "### Negative sentences",
   "id": "fff9442b3f7fc783"
  },
  {
   "metadata": {
    "ExecuteTime": {
     "end_time": "2024-05-03T23:38:25.298168Z",
     "start_time": "2024-05-03T23:38:25.279157Z"
    }
   },
   "cell_type": "code",
   "source": [
    "expression_negative_data = [line.strip().split(\"\\t\") for line in open(\"../../negative_sentences_validated/GROBID_neg_sentences_expr.tsv\")]\n",
    "expression_negative_data_3_classes = [(row[1], 0, 0, 0, \"NEGATIVE\") for row in expression_negative_data[1:] if row[2] == \"Y\" and (len(row) < 5 or row[4] != \"Y\")][:500]\n",
    "\n",
    "kinase_negative_data = [line.strip().split(\"\\t\") for line in open(\"../../negative_sentences_validated/GROBID_neg_sentences_kinase.tsv\")]\n",
    "kinase_negative_data_3_classes = [(row[1], 0, 0, 0, \"NEGATIVE\") for row in kinase_negative_data[1:] if row[2] == \"YES\" and (len(row) < 5 or row[4] != \"YES\")][:500]"
   ],
   "id": "2e9c981562826060",
   "outputs": [],
   "execution_count": 3
  },
  {
   "metadata": {},
   "cell_type": "markdown",
   "source": "### Complete datasets",
   "id": "c9dfc74b87845dbc"
  },
  {
   "metadata": {
    "ExecuteTime": {
     "end_time": "2024-05-03T23:38:25.302018Z",
     "start_time": "2024-05-03T23:38:25.299292Z"
    }
   },
   "cell_type": "code",
   "source": "expression_unified_ds = [*expression_gold_sent_data_3_classes, *expression_validation_data_3_classes, *expression_negative_data_3_classes]\n",
   "id": "65e62701dc27285b",
   "outputs": [],
   "execution_count": 4
  },
  {
   "metadata": {
    "ExecuteTime": {
     "end_time": "2024-05-03T23:38:25.312956Z",
     "start_time": "2024-05-03T23:38:25.304629Z"
    }
   },
   "cell_type": "code",
   "source": "kinaseact_unified_ds = [*kinaseact_gold_sent_data_3_classes, *kinaseact_validation_data_3_classes, *kinase_negative_data_3_classes]",
   "id": "375dc3799b360094",
   "outputs": [],
   "execution_count": 5
  },
  {
   "metadata": {},
   "cell_type": "markdown",
   "source": "### Mark training and testing sets",
   "id": "470cc920d4aedcc0"
  },
  {
   "metadata": {
    "ExecuteTime": {
     "end_time": "2024-05-03T23:38:25.362815Z",
     "start_time": "2024-05-03T23:38:25.314544Z"
    }
   },
   "cell_type": "code",
   "source": [
    "from random import shuffle\n",
    "import math\n",
    "\n",
    "indices_expr = [i for i in range(len(expression_unified_ds))]\n",
    "shuffle(indices_expr)\n",
    "training_size_expr = math.ceil(len(expression_unified_ds) * 0.6)\n",
    "training_indices_expr = set(indices_expr[0:training_size_expr])\n",
    "test_indices_expr = set(indices_expr[training_size_expr:])\n",
    "expression_unified_ds = [(*row, \"TRAINING\" if idx in training_indices_expr else \"TESTING\") for idx, row in enumerate(expression_unified_ds)]\n",
    "\n",
    "indices_kinase = [i for i in range(len(kinaseact_unified_ds))]\n",
    "shuffle(indices_kinase)\n",
    "training_size_kinase = math.ceil(len(kinaseact_unified_ds) * 0.8)\n",
    "training_indices_kinase = set(indices_kinase[0:training_size_kinase])\n",
    "test_indices_kinase = set(indices_kinase[training_size_kinase:])\n",
    "kinaseact_unified_ds = [(*row, \"TRAINING\" if idx in training_indices_kinase else \"TESTING\") for idx, row in enumerate(kinaseact_unified_ds)]"
   ],
   "id": "231b257eb6fd3171",
   "outputs": [],
   "execution_count": 6
  },
  {
   "metadata": {
    "ExecuteTime": {
     "end_time": "2024-05-03T23:38:25.383820Z",
     "start_time": "2024-05-03T23:38:25.364103Z"
    }
   },
   "cell_type": "code",
   "source": [
    "with open(\"../../unified_dataset/expression.tsv\", \"w\") as f:\n",
    "    f.write(\"SENTENCE\\tFULLY_CURATABLE\\tPARTIALLY_CURATABLE\\tRELATED_LANGUAGE\\tSOURCE\\tTRAINING_OR_TESTING\\n\")\n",
    "    for line in [\"\\t\".join(map(str, line_arr)) for line_arr in expression_unified_ds]:\n",
    "        f.write(line + \"\\n\")\n",
    "\n",
    "with open(\"../../unified_dataset/kinaseact.tsv\", \"w\") as f:\n",
    "    f.write(\"SENTENCE\\tFULLY_CURATABLE\\tPARTIALLY_CURATABLE\\tRELATED_LANGUAGE\\tSOURCE\\tTRAINING_OR_TESTING\\n\")\n",
    "    for line in [\"\\t\".join(map(str, line_arr)) for line_arr in kinaseact_unified_ds]:\n",
    "        f.write(line + \"\\n\")"
   ],
   "id": "b80396f32d53be42",
   "outputs": [],
   "execution_count": 7
  }
 ],
 "metadata": {
  "kernelspec": {
   "display_name": "Python 3",
   "language": "python",
   "name": "python3"
  },
  "language_info": {
   "codemirror_mode": {
    "name": "ipython",
    "version": 2
   },
   "file_extension": ".py",
   "mimetype": "text/x-python",
   "name": "python",
   "nbconvert_exporter": "python",
   "pygments_lexer": "ipython2",
   "version": "2.7.6"
  }
 },
 "nbformat": 4,
 "nbformat_minor": 5
}
