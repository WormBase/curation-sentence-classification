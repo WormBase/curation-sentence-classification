{
 "cells": [
  {
   "metadata": {
    "ExecuteTime": {
     "end_time": "2024-04-25T17:55:28.119847Z",
     "start_time": "2024-04-25T17:55:28.105518Z"
    }
   },
   "cell_type": "code",
   "source": [
    "expression_unified_ds = [line.strip().split(\"\\t\") for line in open(\"../../unified_dataset/expression.tsv\")]\n",
    "kinaseact_unified_ds = [line.strip().split(\"\\t\") for line in open(\"../../unified_dataset/kinaseact.tsv\")]"
   ],
   "id": "b749e4984a3226aa",
   "outputs": [],
   "execution_count": 10
  },
  {
   "metadata": {},
   "cell_type": "markdown",
   "source": "### Number of sentences in expression dataset",
   "id": "32ff4538668255df"
  },
  {
   "metadata": {
    "ExecuteTime": {
     "end_time": "2024-04-25T17:55:28.143955Z",
     "start_time": "2024-04-25T17:55:28.138072Z"
    }
   },
   "cell_type": "code",
   "source": "len(expression_unified_ds[1:])",
   "id": "initial_id",
   "outputs": [
    {
     "data": {
      "text/plain": [
       "2073"
      ]
     },
     "execution_count": 11,
     "metadata": {},
     "output_type": "execute_result"
    }
   ],
   "execution_count": 11
  },
  {
   "metadata": {},
   "cell_type": "markdown",
   "source": "### Number of sentences in kinaseact dataset",
   "id": "256c36a38d3b10b2"
  },
  {
   "metadata": {
    "ExecuteTime": {
     "end_time": "2024-04-25T17:55:28.155840Z",
     "start_time": "2024-04-25T17:55:28.146733Z"
    }
   },
   "cell_type": "code",
   "source": "len(kinaseact_unified_ds[1:])",
   "id": "f205d20552c3cd6",
   "outputs": [
    {
     "data": {
      "text/plain": [
       "1995"
      ]
     },
     "execution_count": 12,
     "metadata": {},
     "output_type": "execute_result"
    }
   ],
   "execution_count": 12
  },
  {
   "metadata": {},
   "cell_type": "markdown",
   "source": "### Number of sentences positive for task 1 in expression dataset",
   "id": "ebdea1ef10970ef"
  },
  {
   "metadata": {
    "ExecuteTime": {
     "end_time": "2024-04-25T17:55:28.168043Z",
     "start_time": "2024-04-25T17:55:28.158394Z"
    }
   },
   "cell_type": "code",
   "source": "len([row for row in expression_unified_ds[1:] if int(row[1]) == 1])",
   "id": "8be6587aee5f3bdc",
   "outputs": [
    {
     "data": {
      "text/plain": [
       "291"
      ]
     },
     "execution_count": 13,
     "metadata": {},
     "output_type": "execute_result"
    }
   ],
   "execution_count": 13
  },
  {
   "metadata": {},
   "cell_type": "markdown",
   "source": "### Number of sentences positive for task 2 in expression dataset",
   "id": "cc5aa321b5d5e9ba"
  },
  {
   "metadata": {
    "ExecuteTime": {
     "end_time": "2024-04-25T17:55:28.180587Z",
     "start_time": "2024-04-25T17:55:28.169534Z"
    }
   },
   "cell_type": "code",
   "source": "len([row for row in expression_unified_ds[1:] if int(row[2]) == 1])",
   "id": "d15383bc1cfc1e7a",
   "outputs": [
    {
     "data": {
      "text/plain": [
       "420"
      ]
     },
     "execution_count": 14,
     "metadata": {},
     "output_type": "execute_result"
    }
   ],
   "execution_count": 14
  },
  {
   "metadata": {},
   "cell_type": "markdown",
   "source": "### Number of sentences positive for task 3 in expression dataset",
   "id": "194f6a4dc9af741b"
  },
  {
   "metadata": {
    "ExecuteTime": {
     "end_time": "2024-04-25T17:55:28.205607Z",
     "start_time": "2024-04-25T17:55:28.182371Z"
    }
   },
   "cell_type": "code",
   "source": "len([row for row in expression_unified_ds[1:] if int(row[3]) == 1])\n",
   "id": "cd10693209f06ef1",
   "outputs": [
    {
     "data": {
      "text/plain": [
       "765"
      ]
     },
     "execution_count": 15,
     "metadata": {},
     "output_type": "execute_result"
    }
   ],
   "execution_count": 15
  },
  {
   "metadata": {},
   "cell_type": "markdown",
   "source": "### Number of sentences positive for task 1 in kinase dataset",
   "id": "c7b82dedcfd751f1"
  },
  {
   "metadata": {
    "ExecuteTime": {
     "end_time": "2024-04-25T17:55:28.217676Z",
     "start_time": "2024-04-25T17:55:28.207483Z"
    }
   },
   "cell_type": "code",
   "source": "len([row for row in kinaseact_unified_ds[1:] if int(row[1]) == 1])",
   "id": "6e991893b8755375",
   "outputs": [
    {
     "data": {
      "text/plain": [
       "298"
      ]
     },
     "execution_count": 16,
     "metadata": {},
     "output_type": "execute_result"
    }
   ],
   "execution_count": 16
  },
  {
   "metadata": {},
   "cell_type": "markdown",
   "source": "### Number of sentences positive for task 2 in kinase dataset\n",
   "id": "b1f33c57704fa6ac"
  },
  {
   "metadata": {
    "ExecuteTime": {
     "end_time": "2024-04-25T17:55:28.230432Z",
     "start_time": "2024-04-25T17:55:28.219045Z"
    }
   },
   "cell_type": "code",
   "source": "len([row for row in kinaseact_unified_ds[1:] if int(row[2]) == 1])",
   "id": "928c1e1ea93e3173",
   "outputs": [
    {
     "data": {
      "text/plain": [
       "365"
      ]
     },
     "execution_count": 17,
     "metadata": {},
     "output_type": "execute_result"
    }
   ],
   "execution_count": 17
  },
  {
   "metadata": {},
   "cell_type": "markdown",
   "source": "### ### Number of sentences positive for task 3 in kinase dataset",
   "id": "cf77bb553a26758f"
  },
  {
   "metadata": {
    "ExecuteTime": {
     "end_time": "2024-04-25T17:55:28.242715Z",
     "start_time": "2024-04-25T17:55:28.232219Z"
    }
   },
   "cell_type": "code",
   "source": "len([row for row in kinaseact_unified_ds[1:] if int(row[3]) == 1])",
   "id": "34ea07ed9f8074e4",
   "outputs": [
    {
     "data": {
      "text/plain": [
       "666"
      ]
     },
     "execution_count": 18,
     "metadata": {},
     "output_type": "execute_result"
    }
   ],
   "execution_count": 18
  },
  {
   "metadata": {
    "ExecuteTime": {
     "end_time": "2024-04-25T17:55:28.246852Z",
     "start_time": "2024-04-25T17:55:28.244220Z"
    }
   },
   "cell_type": "code",
   "source": "",
   "id": "1916580d1d23b619",
   "outputs": [],
   "execution_count": 18
  },
  {
   "metadata": {
    "ExecuteTime": {
     "end_time": "2024-04-25T17:55:28.252771Z",
     "start_time": "2024-04-25T17:55:28.249692Z"
    }
   },
   "cell_type": "code",
   "source": "",
   "id": "ece74896e15889d7",
   "outputs": [],
   "execution_count": 18
  }
 ],
 "metadata": {
  "kernelspec": {
   "display_name": "Python 3",
   "language": "python",
   "name": "python3"
  },
  "language_info": {
   "codemirror_mode": {
    "name": "ipython",
    "version": 2
   },
   "file_extension": ".py",
   "mimetype": "text/x-python",
   "name": "python",
   "nbconvert_exporter": "python",
   "pygments_lexer": "ipython2",
   "version": "2.7.6"
  }
 },
 "nbformat": 4,
 "nbformat_minor": 5
}
