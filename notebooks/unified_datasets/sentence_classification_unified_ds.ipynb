{
 "cells": [
  {
   "cell_type": "code",
   "id": "initial_id",
   "metadata": {
    "collapsed": true,
    "ExecuteTime": {
     "end_time": "2024-05-03T23:40:16.750424Z",
     "start_time": "2024-05-03T23:40:16.730074Z"
    }
   },
   "source": [
    "import sent2vec\n",
    "\n",
    "expression_unified_ds = [line.strip().split(\"\\t\") for line in open(\"../../unified_dataset/expression.tsv\")][1:]\n",
    "kinaseact_unified_ds = [line.strip().split(\"\\t\") for line in open(\"../../unified_dataset/kinaseact.tsv\")][1:]\n",
    "\n",
    "sentences_only_expression_data = [row[0] for row in expression_unified_ds]\n",
    "sentences_only_kinaseact_data = [row[0] for row in kinaseact_unified_ds]\n",
    "bio_sent_vec_model_location = \"../../biosentvec/model.bin\""
   ],
   "outputs": [],
   "execution_count": 11
  },
  {
   "metadata": {
    "ExecuteTime": {
     "end_time": "2024-05-03T23:40:33.988110Z",
     "start_time": "2024-05-03T23:40:16.760333Z"
    }
   },
   "cell_type": "code",
   "source": [
    "model_path = bio_sent_vec_model_location\n",
    "biosentvec_model = sent2vec.Sent2vecModel()\n",
    "try:\n",
    "    biosentvec_model.load_model(model_path)\n",
    "except Exception as e:\n",
    "    print(e)\n",
    "print('model successfully loaded')"
   ],
   "id": "bd2001e0fce48079",
   "outputs": [
    {
     "name": "stdout",
     "output_type": "stream",
     "text": [
      "model successfully loaded\n"
     ]
    }
   ],
   "execution_count": 12
  },
  {
   "metadata": {
    "ExecuteTime": {
     "end_time": "2024-05-03T23:40:34.088624Z",
     "start_time": "2024-05-03T23:40:33.989536Z"
    }
   },
   "cell_type": "code",
   "source": [
    "corpus_expr = biosentvec_model.embed_sentences(sentences_only_expression_data)\n",
    "corpus_kinaseact = biosentvec_model.embed_sentences(sentences_only_kinaseact_data)"
   ],
   "id": "adef9e82e799687e",
   "outputs": [],
   "execution_count": 13
  },
  {
   "metadata": {
    "ExecuteTime": {
     "end_time": "2024-05-03T23:40:34.100565Z",
     "start_time": "2024-05-03T23:40:34.089589Z"
    }
   },
   "cell_type": "code",
   "source": [
    "from sklearn.neural_network import MLPClassifier\n",
    "from sklearn.metrics import precision_recall_fscore_support as score\n",
    "import joblib\n",
    "\n",
    "base_clf = MLPClassifier(hidden_layer_sizes=(10, 10), alpha=0.1)\n",
    "training_set_expression = [corpus_expr[idx] for idx, row in enumerate(expression_unified_ds) if row[5] == \"TRAINING\"]\n",
    "testing_set_expression = [corpus_expr[idx] for idx, row in enumerate(expression_unified_ds) if row[5] == \"TESTING\"]\n",
    "\n",
    "training_set_kinaseact = [corpus_kinaseact[idx] for idx, row in enumerate(kinaseact_unified_ds) if row[5] == \"TRAINING\"]\n",
    "testing_set_kinaseact = [corpus_kinaseact[idx] for idx, row in enumerate(kinaseact_unified_ds) if row[5] == \"TESTING\"]"
   ],
   "id": "879d5154834b2dab",
   "outputs": [],
   "execution_count": 14
  },
  {
   "metadata": {},
   "cell_type": "markdown",
   "source": "## Task 1",
   "id": "5d8c55f3262ed2e8"
  },
  {
   "metadata": {},
   "cell_type": "markdown",
   "source": "### Expression",
   "id": "af3bad264335987a"
  },
  {
   "metadata": {
    "ExecuteTime": {
     "end_time": "2024-05-03T23:40:35.810540Z",
     "start_time": "2024-05-03T23:40:34.102635Z"
    }
   },
   "cell_type": "code",
   "source": [
    "training_set_classes_expr = [int(row[1]) for row in expression_unified_ds if row[5] == \"TRAINING\"]\n",
    "test_set_classes_expr = [int(row[1]) for row in expression_unified_ds if row[5] == \"TESTING\"]\n",
    "clf = base_clf.fit(training_set_expression, training_set_classes_expr)\n",
    "test_predictions = list(clf.predict(testing_set_expression))\n",
    "precision, recall, fscore, support = score(test_set_classes_expr, test_predictions)\n",
    "print('precision: {}'.format(precision))\n",
    "print('recall: {}'.format(recall))\n",
    "print('fscore: {}'.format(fscore))\n",
    "print('support: {}'.format(support))"
   ],
   "id": "55f808b94982ec5",
   "outputs": [
    {
     "name": "stdout",
     "output_type": "stream",
     "text": [
      "precision: [0.9525802  0.68907563]\n",
      "recall: [0.94861111 0.70689655]\n",
      "fscore: [0.95059151 0.69787234]\n",
      "support: [720 116]\n"
     ]
    },
    {
     "name": "stderr",
     "output_type": "stream",
     "text": [
      "/home/valerio/workspace/caltech/sentence_classification/venv/lib/python3.8/site-packages/sklearn/neural_network/_multilayer_perceptron.py:686: ConvergenceWarning: Stochastic Optimizer: Maximum iterations (200) reached and the optimization hasn't converged yet.\n",
      "  warnings.warn(\n"
     ]
    }
   ],
   "execution_count": 15
  },
  {
   "metadata": {},
   "cell_type": "markdown",
   "source": "### Kinaseact",
   "id": "b6770c24a3ddf24c"
  },
  {
   "metadata": {
    "ExecuteTime": {
     "end_time": "2024-05-03T23:40:38.049392Z",
     "start_time": "2024-05-03T23:40:35.812175Z"
    }
   },
   "cell_type": "code",
   "source": [
    "training_set_classes_kinaseact = [int(row[1]) for row in kinaseact_unified_ds if row[5] == \"TRAINING\"]\n",
    "test_set_classes_kinaseact = [int(row[1]) for row in kinaseact_unified_ds if row[5] == \"TESTING\"]\n",
    "clf = base_clf.fit(training_set_kinaseact, training_set_classes_kinaseact)\n",
    "test_predictions = list(clf.predict(testing_set_kinaseact))\n",
    "precision, recall, fscore, support = score(test_set_classes_kinaseact, test_predictions)\n",
    "print('precision: {}'.format(precision))\n",
    "print('recall: {}'.format(recall))\n",
    "print('fscore: {}'.format(fscore))\n",
    "print('support: {}'.format(support))"
   ],
   "id": "e0a3f719c210dfd3",
   "outputs": [
    {
     "name": "stdout",
     "output_type": "stream",
     "text": [
      "precision: [0.95689655 0.76470588]\n",
      "recall: [0.96521739 0.72222222]\n",
      "fscore: [0.96103896 0.74285714]\n",
      "support: [345  54]\n"
     ]
    },
    {
     "name": "stderr",
     "output_type": "stream",
     "text": [
      "/home/valerio/workspace/caltech/sentence_classification/venv/lib/python3.8/site-packages/sklearn/neural_network/_multilayer_perceptron.py:686: ConvergenceWarning: Stochastic Optimizer: Maximum iterations (200) reached and the optimization hasn't converged yet.\n",
      "  warnings.warn(\n"
     ]
    }
   ],
   "execution_count": 16
  },
  {
   "metadata": {},
   "cell_type": "markdown",
   "source": "## Task 2",
   "id": "11ff862cd16adfe8"
  },
  {
   "metadata": {},
   "cell_type": "markdown",
   "source": "### Expression",
   "id": "5ca065dbdb12cbf1"
  },
  {
   "metadata": {
    "ExecuteTime": {
     "end_time": "2024-05-03T23:40:39.848472Z",
     "start_time": "2024-05-03T23:40:38.050659Z"
    }
   },
   "cell_type": "code",
   "source": [
    "training_set_classes_expr = [int(row[2]) for row in expression_unified_ds if row[5] == \"TRAINING\"]\n",
    "test_set_classes_expr = [int(row[2]) for row in expression_unified_ds if row[5] == \"TESTING\"]\n",
    "clf = base_clf.fit(training_set_expression, training_set_classes_expr)\n",
    "test_predictions = list(clf.predict(testing_set_expression))\n",
    "precision, recall, fscore, support = score(test_set_classes_expr, test_predictions)\n",
    "print('precision: {}'.format(precision))\n",
    "print('recall: {}'.format(recall))\n",
    "print('fscore: {}'.format(fscore))\n",
    "print('support: {}'.format(support))"
   ],
   "id": "ec4d119f5037b528",
   "outputs": [
    {
     "name": "stdout",
     "output_type": "stream",
     "text": [
      "precision: [0.9653092  0.84971098]\n",
      "recall: [0.96096096 0.86470588]\n",
      "fscore: [0.96313017 0.85714286]\n",
      "support: [666 170]\n"
     ]
    }
   ],
   "execution_count": 17
  },
  {
   "metadata": {},
   "cell_type": "markdown",
   "source": "### Kinaseact",
   "id": "fc18552ac3a805de"
  },
  {
   "metadata": {
    "ExecuteTime": {
     "end_time": "2024-05-03T23:40:42.813233Z",
     "start_time": "2024-05-03T23:40:39.849908Z"
    }
   },
   "cell_type": "code",
   "source": [
    "training_set_classes_kinaseact = [int(row[2]) for row in kinaseact_unified_ds if row[5] == \"TRAINING\"]\n",
    "test_set_classes_kinaseact = [int(row[2]) for row in kinaseact_unified_ds if row[5] == \"TESTING\"]\n",
    "clf = base_clf.fit(training_set_kinaseact, training_set_classes_kinaseact)\n",
    "test_predictions = list(clf.predict(testing_set_kinaseact))\n",
    "precision, recall, fscore, support = score(test_set_classes_kinaseact, test_predictions)\n",
    "print('precision: {}'.format(precision))\n",
    "print('recall: {}'.format(recall))\n",
    "print('fscore: {}'.format(fscore))\n",
    "print('support: {}'.format(support))"
   ],
   "id": "429d03c1a9cfdf70",
   "outputs": [
    {
     "name": "stdout",
     "output_type": "stream",
     "text": [
      "precision: [0.94642857 0.77777778]\n",
      "recall: [0.95783133 0.73134328]\n",
      "fscore: [0.95209581 0.75384615]\n",
      "support: [332  67]\n"
     ]
    },
    {
     "name": "stderr",
     "output_type": "stream",
     "text": [
      "/home/valerio/workspace/caltech/sentence_classification/venv/lib/python3.8/site-packages/sklearn/neural_network/_multilayer_perceptron.py:686: ConvergenceWarning: Stochastic Optimizer: Maximum iterations (200) reached and the optimization hasn't converged yet.\n",
      "  warnings.warn(\n"
     ]
    }
   ],
   "execution_count": 18
  },
  {
   "metadata": {},
   "cell_type": "markdown",
   "source": "## Task 3",
   "id": "36d099add3a321b6"
  },
  {
   "metadata": {},
   "cell_type": "markdown",
   "source": "### Expression",
   "id": "caf3253b743b1076"
  },
  {
   "metadata": {
    "ExecuteTime": {
     "end_time": "2024-05-03T23:40:45.393431Z",
     "start_time": "2024-05-03T23:40:42.814158Z"
    }
   },
   "cell_type": "code",
   "source": [
    "training_set_classes_expr = [int(row[3]) for row in expression_unified_ds if row[5] == \"TRAINING\"]\n",
    "test_set_classes_expr = [int(row[3]) for row in expression_unified_ds if row[5] == \"TESTING\"]\n",
    "clf = base_clf.fit(training_set_expression, training_set_classes_expr)\n",
    "test_predictions = list(clf.predict(testing_set_expression))\n",
    "precision, recall, fscore, support = score(test_set_classes_expr, test_predictions)\n",
    "print('precision: {}'.format(precision))\n",
    "print('recall: {}'.format(recall))\n",
    "print('fscore: {}'.format(fscore))\n",
    "print('support: {}'.format(support))"
   ],
   "id": "cf286668b3e240a8",
   "outputs": [
    {
     "name": "stdout",
     "output_type": "stream",
     "text": [
      "precision: [0.943074   0.89644013]\n",
      "recall: [0.93950851 0.90228013]\n",
      "fscore: [0.94128788 0.89935065]\n",
      "support: [529 307]\n"
     ]
    }
   ],
   "execution_count": 19
  },
  {
   "metadata": {},
   "cell_type": "markdown",
   "source": "### Kinaseact",
   "id": "57126e4f0d5c19c0"
  },
  {
   "metadata": {
    "ExecuteTime": {
     "end_time": "2024-05-03T23:40:47.377886Z",
     "start_time": "2024-05-03T23:40:45.394654Z"
    }
   },
   "cell_type": "code",
   "source": [
    "training_set_classes_kinaseact = [int(row[3]) for row in kinaseact_unified_ds if row[5] == \"TRAINING\"]\n",
    "test_set_classes_kinaseact = [int(row[3]) for row in kinaseact_unified_ds if row[5] == \"TESTING\"]\n",
    "clf = base_clf.fit(training_set_kinaseact, training_set_classes_kinaseact)\n",
    "test_predictions = list(clf.predict(testing_set_kinaseact))\n",
    "precision, recall, fscore, support = score(test_set_classes_kinaseact, test_predictions)\n",
    "print('precision: {}'.format(precision))\n",
    "print('recall: {}'.format(recall))\n",
    "print('fscore: {}'.format(fscore))\n",
    "print('support: {}'.format(support))"
   ],
   "id": "f1e93a4a794d739e",
   "outputs": [
    {
     "name": "stdout",
     "output_type": "stream",
     "text": [
      "precision: [0.95373665 0.95762712]\n",
      "recall: [0.98168498 0.8968254 ]\n",
      "fscore: [0.96750903 0.92622951]\n",
      "support: [273 126]\n"
     ]
    }
   ],
   "execution_count": 20
  },
  {
   "metadata": {},
   "cell_type": "markdown",
   "source": "",
   "id": "d22c08eaa0f41e8d"
  }
 ],
 "metadata": {
  "kernelspec": {
   "display_name": "Python 3",
   "language": "python",
   "name": "python3"
  },
  "language_info": {
   "codemirror_mode": {
    "name": "ipython",
    "version": 2
   },
   "file_extension": ".py",
   "mimetype": "text/x-python",
   "name": "python",
   "nbconvert_exporter": "python",
   "pygments_lexer": "ipython2",
   "version": "2.7.6"
  }
 },
 "nbformat": 4,
 "nbformat_minor": 5
}
