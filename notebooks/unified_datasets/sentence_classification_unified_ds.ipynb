{
 "cells": [
  {
   "cell_type": "code",
   "id": "initial_id",
   "metadata": {
    "collapsed": true,
    "ExecuteTime": {
     "end_time": "2024-04-25T17:57:55.049920Z",
     "start_time": "2024-04-25T17:57:55.036365Z"
    }
   },
   "source": [
    "import sent2vec\n",
    "\n",
    "expression_unified_ds = [line.strip().split(\"\\t\") for line in open(\"../../unified_dataset/expression.tsv\")][1:]\n",
    "kinaseact_unified_ds = [line.strip().split(\"\\t\") for line in open(\"../../unified_dataset/kinaseact.tsv\")][1:]\n",
    "\n",
    "sentences_only_expression_data = [row[0] for row in expression_unified_ds]\n",
    "sentences_only_kinaseact_data = [row[0] for row in kinaseact_unified_ds]\n",
    "bio_sent_vec_model_location = \"../../biosentvec/model.bin\""
   ],
   "outputs": [],
   "execution_count": 190
  },
  {
   "metadata": {
    "ExecuteTime": {
     "end_time": "2024-04-25T17:58:11.247083Z",
     "start_time": "2024-04-25T17:57:55.082648Z"
    }
   },
   "cell_type": "code",
   "source": [
    "model_path = bio_sent_vec_model_location\n",
    "biosentvec_model = sent2vec.Sent2vecModel()\n",
    "try:\n",
    "    biosentvec_model.load_model(model_path)\n",
    "except Exception as e:\n",
    "    print(e)\n",
    "print('model successfully loaded')"
   ],
   "id": "bd2001e0fce48079",
   "outputs": [
    {
     "name": "stdout",
     "output_type": "stream",
     "text": [
      "model successfully loaded\n"
     ]
    }
   ],
   "execution_count": 191
  },
  {
   "metadata": {
    "ExecuteTime": {
     "end_time": "2024-04-25T17:58:11.340686Z",
     "start_time": "2024-04-25T17:58:11.248470Z"
    }
   },
   "cell_type": "code",
   "source": [
    "corpus_expr = biosentvec_model.embed_sentences(sentences_only_expression_data)\n",
    "corpus_kinaseact = biosentvec_model.embed_sentences(sentences_only_kinaseact_data)"
   ],
   "id": "adef9e82e799687e",
   "outputs": [],
   "execution_count": 192
  },
  {
   "metadata": {
    "ExecuteTime": {
     "end_time": "2024-04-25T17:58:11.359278Z",
     "start_time": "2024-04-25T17:58:11.342016Z"
    }
   },
   "cell_type": "code",
   "source": [
    "from sklearn.neural_network import MLPClassifier\n",
    "from sklearn.metrics import precision_recall_fscore_support as score\n",
    "import joblib\n",
    "\n",
    "base_clf = MLPClassifier(hidden_layer_sizes=(10, 10), alpha=0.1)\n",
    "training_set_expression = [corpus_expr[idx] for idx, row in enumerate(expression_unified_ds) if row[5] == \"TRAINING\"]\n",
    "testing_set_expression = [corpus_expr[idx] for idx, row in enumerate(expression_unified_ds) if row[5] == \"TESTING\"]\n",
    "\n",
    "training_set_kinaseact = [corpus_kinaseact[idx] for idx, row in enumerate(kinaseact_unified_ds) if row[5] == \"TRAINING\"]\n",
    "testing_set_kinaseact = [corpus_kinaseact[idx] for idx, row in enumerate(kinaseact_unified_ds) if row[5] == \"TESTING\"]"
   ],
   "id": "879d5154834b2dab",
   "outputs": [],
   "execution_count": 193
  },
  {
   "metadata": {},
   "cell_type": "markdown",
   "source": "## Task 1",
   "id": "5d8c55f3262ed2e8"
  },
  {
   "metadata": {},
   "cell_type": "markdown",
   "source": "### Expression",
   "id": "af3bad264335987a"
  },
  {
   "metadata": {
    "ExecuteTime": {
     "end_time": "2024-04-25T17:58:13.580248Z",
     "start_time": "2024-04-25T17:58:11.361698Z"
    }
   },
   "cell_type": "code",
   "source": [
    "training_set_classes_expr = [int(row[1]) for row in expression_unified_ds if row[5] == \"TRAINING\"]\n",
    "test_set_classes_expr = [int(row[1]) for row in expression_unified_ds if row[5] == \"TESTING\"]\n",
    "clf = base_clf.fit(training_set_expression, training_set_classes_expr)\n",
    "test_predictions = list(clf.predict(testing_set_expression))\n",
    "precision, recall, fscore, support = score(test_set_classes_expr, test_predictions)\n",
    "print('precision: {}'.format(precision))\n",
    "print('recall: {}'.format(recall))\n",
    "print('fscore: {}'.format(fscore))\n",
    "print('support: {}'.format(support))"
   ],
   "id": "55f808b94982ec5",
   "outputs": [
    {
     "name": "stdout",
     "output_type": "stream",
     "text": [
      "precision: [0.95264624 0.69369369]\n",
      "recall: [0.95264624 0.69369369]\n",
      "fscore: [0.95264624 0.69369369]\n",
      "support: [718 111]\n"
     ]
    },
    {
     "name": "stderr",
     "output_type": "stream",
     "text": [
      "/home/valerio/workspace/caltech/sentence_classification/venv/lib/python3.8/site-packages/sklearn/neural_network/_multilayer_perceptron.py:686: ConvergenceWarning: Stochastic Optimizer: Maximum iterations (200) reached and the optimization hasn't converged yet.\n",
      "  warnings.warn(\n"
     ]
    }
   ],
   "execution_count": 194
  },
  {
   "metadata": {
    "ExecuteTime": {
     "end_time": "2024-04-25T17:58:13.598683Z",
     "start_time": "2024-04-25T17:58:13.581972Z"
    }
   },
   "cell_type": "code",
   "source": [
    "precision, recall, fscore, support = score(test_set_classes_expr, test_predictions, average='weighted')\n",
    "print('precision: {}'.format(precision))\n",
    "print('recall: {}'.format(recall))\n",
    "print('fscore: {}'.format(fscore))\n",
    "print('support: {}'.format(support))"
   ],
   "id": "6715c0fab43c7ccc",
   "outputs": [
    {
     "name": "stdout",
     "output_type": "stream",
     "text": [
      "precision: 0.9179734620024126\n",
      "recall: 0.9179734620024126\n",
      "fscore: 0.9179734620024126\n",
      "support: None\n"
     ]
    }
   ],
   "execution_count": 195
  },
  {
   "metadata": {},
   "cell_type": "markdown",
   "source": "### Kinaseact",
   "id": "b6770c24a3ddf24c"
  },
  {
   "metadata": {
    "ExecuteTime": {
     "end_time": "2024-04-25T17:58:15.875725Z",
     "start_time": "2024-04-25T17:58:13.602699Z"
    }
   },
   "cell_type": "code",
   "source": [
    "training_set_classes_kinaseact = [int(row[1]) for row in kinaseact_unified_ds if row[5] == \"TRAINING\"]\n",
    "test_set_classes_kinaseact = [int(row[1]) for row in kinaseact_unified_ds if row[5] == \"TESTING\"]\n",
    "clf = base_clf.fit(training_set_kinaseact, training_set_classes_kinaseact)\n",
    "test_predictions = list(clf.predict(testing_set_kinaseact))\n",
    "precision, recall, fscore, support = score(test_set_classes_kinaseact, test_predictions)\n",
    "print('precision: {}'.format(precision))\n",
    "print('recall: {}'.format(recall))\n",
    "print('fscore: {}'.format(fscore))\n",
    "print('support: {}'.format(support))"
   ],
   "id": "e0a3f719c210dfd3",
   "outputs": [
    {
     "name": "stdout",
     "output_type": "stream",
     "text": [
      "precision: [0.93304221 0.74774775]\n",
      "recall: [0.95814649 0.64341085]\n",
      "fscore: [0.94542773 0.69166667]\n",
      "support: [669 129]\n"
     ]
    },
    {
     "name": "stderr",
     "output_type": "stream",
     "text": [
      "/home/valerio/workspace/caltech/sentence_classification/venv/lib/python3.8/site-packages/sklearn/neural_network/_multilayer_perceptron.py:686: ConvergenceWarning: Stochastic Optimizer: Maximum iterations (200) reached and the optimization hasn't converged yet.\n",
      "  warnings.warn(\n"
     ]
    }
   ],
   "execution_count": 196
  },
  {
   "metadata": {
    "ExecuteTime": {
     "end_time": "2024-04-25T17:58:15.894048Z",
     "start_time": "2024-04-25T17:58:15.877810Z"
    }
   },
   "cell_type": "code",
   "source": [
    "precision, recall, fscore, support = score(test_set_classes_kinaseact, test_predictions, average='weighted')\n",
    "print('precision: {}'.format(precision))\n",
    "print('recall: {}'.format(recall))\n",
    "print('fscore: {}'.format(fscore))\n",
    "print('support: {}'.format(support))"
   ],
   "id": "2531b343de264a30",
   "outputs": [
    {
     "name": "stdout",
     "output_type": "stream",
     "text": [
      "precision: 0.9030885960327469\n",
      "recall: 0.9072681704260651\n",
      "fscore: 0.9044062035620024\n",
      "support: None\n"
     ]
    }
   ],
   "execution_count": 197
  },
  {
   "metadata": {},
   "cell_type": "markdown",
   "source": "## Task 2",
   "id": "11ff862cd16adfe8"
  },
  {
   "metadata": {},
   "cell_type": "markdown",
   "source": "### Expression",
   "id": "5ca065dbdb12cbf1"
  },
  {
   "metadata": {
    "ExecuteTime": {
     "end_time": "2024-04-25T17:58:18.580312Z",
     "start_time": "2024-04-25T17:58:15.901767Z"
    }
   },
   "cell_type": "code",
   "source": [
    "training_set_classes_expr = [int(row[2]) for row in expression_unified_ds if row[5] == \"TRAINING\"]\n",
    "test_set_classes_expr = [int(row[2]) for row in expression_unified_ds if row[5] == \"TESTING\"]\n",
    "clf = base_clf.fit(training_set_expression, training_set_classes_expr)\n",
    "test_predictions = list(clf.predict(testing_set_expression))\n",
    "precision, recall, fscore, support = score(test_set_classes_expr, test_predictions)\n",
    "print('precision: {}'.format(precision))\n",
    "print('recall: {}'.format(recall))\n",
    "print('fscore: {}'.format(fscore))\n",
    "print('support: {}'.format(support))"
   ],
   "id": "ec4d119f5037b528",
   "outputs": [
    {
     "name": "stdout",
     "output_type": "stream",
     "text": [
      "precision: [0.95266272 0.86928105]\n",
      "recall: [0.96987952 0.80606061]\n",
      "fscore: [0.96119403 0.83647799]\n",
      "support: [664 165]\n"
     ]
    }
   ],
   "execution_count": 198
  },
  {
   "metadata": {
    "ExecuteTime": {
     "end_time": "2024-04-25T17:58:18.597774Z",
     "start_time": "2024-04-25T17:58:18.582952Z"
    }
   },
   "cell_type": "code",
   "source": [
    "precision, recall, fscore, support = score(test_set_classes_expr, test_predictions, average='weighted')\n",
    "print('precision: {}'.format(precision))\n",
    "print('recall: {}'.format(recall))\n",
    "print('fscore: {}'.format(fscore))\n",
    "print('support: {}'.format(support))"
   ],
   "id": "c952e9bc7d663f09",
   "outputs": [
    {
     "name": "stdout",
     "output_type": "stream",
     "text": [
      "precision: 0.9360668514913122\n",
      "recall: 0.9372738238841978\n",
      "fscore: 0.9363711746024412\n",
      "support: None\n"
     ]
    }
   ],
   "execution_count": 199
  },
  {
   "metadata": {},
   "cell_type": "markdown",
   "source": "### Kinaseact",
   "id": "fc18552ac3a805de"
  },
  {
   "metadata": {
    "ExecuteTime": {
     "end_time": "2024-04-25T17:58:20.499332Z",
     "start_time": "2024-04-25T17:58:18.602080Z"
    }
   },
   "cell_type": "code",
   "source": [
    "training_set_classes_kinaseact = [int(row[2]) for row in kinaseact_unified_ds if row[5] == \"TRAINING\"]\n",
    "test_set_classes_kinaseact = [int(row[2]) for row in kinaseact_unified_ds if row[5] == \"TESTING\"]\n",
    "clf = base_clf.fit(training_set_kinaseact, training_set_classes_kinaseact)\n",
    "test_predictions = list(clf.predict(testing_set_kinaseact))\n",
    "precision, recall, fscore, support = score(test_set_classes_kinaseact, test_predictions)\n",
    "print('precision: {}'.format(precision))\n",
    "print('recall: {}'.format(recall))\n",
    "print('fscore: {}'.format(fscore))\n",
    "print('support: {}'.format(support))"
   ],
   "id": "429d03c1a9cfdf70",
   "outputs": [
    {
     "name": "stdout",
     "output_type": "stream",
     "text": [
      "precision: [0.92921687 0.81343284]\n",
      "recall: [0.96105919 0.69871795]\n",
      "fscore: [0.94486983 0.75172414]\n",
      "support: [642 156]\n"
     ]
    },
    {
     "name": "stderr",
     "output_type": "stream",
     "text": [
      "/home/valerio/workspace/caltech/sentence_classification/venv/lib/python3.8/site-packages/sklearn/neural_network/_multilayer_perceptron.py:686: ConvergenceWarning: Stochastic Optimizer: Maximum iterations (200) reached and the optimization hasn't converged yet.\n",
      "  warnings.warn(\n"
     ]
    }
   ],
   "execution_count": 200
  },
  {
   "metadata": {
    "ExecuteTime": {
     "end_time": "2024-04-25T17:58:20.517334Z",
     "start_time": "2024-04-25T17:58:20.502588Z"
    }
   },
   "cell_type": "code",
   "source": [
    "precision, recall, fscore, support = score(test_set_classes_kinaseact, test_predictions, average='weighted')\n",
    "print('precision: {}'.format(precision))\n",
    "print('recall: {}'.format(recall))\n",
    "print('fscore: {}'.format(fscore))\n",
    "print('support: {}'.format(support))"
   ],
   "id": "31fc009c6688118c",
   "outputs": [
    {
     "name": "stdout",
     "output_type": "stream",
     "text": [
      "precision: 0.9065823951174465\n",
      "recall: 0.9097744360902256\n",
      "fscore: 0.9071120267797338\n",
      "support: None\n"
     ]
    }
   ],
   "execution_count": 201
  },
  {
   "metadata": {},
   "cell_type": "markdown",
   "source": "## Task 3",
   "id": "36d099add3a321b6"
  },
  {
   "metadata": {},
   "cell_type": "markdown",
   "source": "### Expression",
   "id": "caf3253b743b1076"
  },
  {
   "metadata": {
    "ExecuteTime": {
     "end_time": "2024-04-25T17:58:22.644434Z",
     "start_time": "2024-04-25T17:58:20.524018Z"
    }
   },
   "cell_type": "code",
   "source": [
    "training_set_classes_expr = [int(row[3]) for row in expression_unified_ds if row[5] == \"TRAINING\"]\n",
    "test_set_classes_expr = [int(row[3]) for row in expression_unified_ds if row[5] == \"TESTING\"]\n",
    "clf = base_clf.fit(training_set_expression, training_set_classes_expr)\n",
    "test_predictions = list(clf.predict(testing_set_expression))\n",
    "precision, recall, fscore, support = score(test_set_classes_expr, test_predictions)\n",
    "print('precision: {}'.format(precision))\n",
    "print('recall: {}'.format(recall))\n",
    "print('fscore: {}'.format(fscore))\n",
    "print('support: {}'.format(support))"
   ],
   "id": "cf286668b3e240a8",
   "outputs": [
    {
     "name": "stdout",
     "output_type": "stream",
     "text": [
      "precision: [0.93632959 0.91864407]\n",
      "recall: [0.95419847 0.88852459]\n",
      "fscore: [0.94517958 0.90333333]\n",
      "support: [524 305]\n"
     ]
    },
    {
     "name": "stderr",
     "output_type": "stream",
     "text": [
      "/home/valerio/workspace/caltech/sentence_classification/venv/lib/python3.8/site-packages/sklearn/neural_network/_multilayer_perceptron.py:686: ConvergenceWarning: Stochastic Optimizer: Maximum iterations (200) reached and the optimization hasn't converged yet.\n",
      "  warnings.warn(\n"
     ]
    }
   ],
   "execution_count": 202
  },
  {
   "metadata": {
    "ExecuteTime": {
     "end_time": "2024-04-25T17:58:22.663816Z",
     "start_time": "2024-04-25T17:58:22.649881Z"
    }
   },
   "cell_type": "code",
   "source": [
    "precision, recall, fscore, support = score(test_set_classes_expr, test_predictions, average='weighted')\n",
    "print('precision: {}'.format(precision))\n",
    "print('recall: {}'.format(recall))\n",
    "print('fscore: {}'.format(fscore))\n",
    "print('support: {}'.format(support))"
   ],
   "id": "34a3c834267ba131",
   "outputs": [
    {
     "name": "stdout",
     "output_type": "stream",
     "text": [
      "precision: 0.9298228525908518\n",
      "recall: 0.9300361881785284\n",
      "fscore: 0.9297837982461541\n",
      "support: None\n"
     ]
    }
   ],
   "execution_count": 203
  },
  {
   "metadata": {},
   "cell_type": "markdown",
   "source": "### Kinaseact",
   "id": "57126e4f0d5c19c0"
  },
  {
   "metadata": {
    "ExecuteTime": {
     "end_time": "2024-04-25T17:58:26.776625Z",
     "start_time": "2024-04-25T17:58:22.669243Z"
    }
   },
   "cell_type": "code",
   "source": [
    "training_set_classes_kinaseact = [int(row[3]) for row in kinaseact_unified_ds if row[5] == \"TRAINING\"]\n",
    "test_set_classes_kinaseact = [int(row[3]) for row in kinaseact_unified_ds if row[5] == \"TESTING\"]\n",
    "clf = base_clf.fit(training_set_kinaseact, training_set_classes_kinaseact)\n",
    "test_predictions = list(clf.predict(testing_set_kinaseact))\n",
    "precision, recall, fscore, support = score(test_set_classes_kinaseact, test_predictions)\n",
    "print('precision: {}'.format(precision))\n",
    "print('recall: {}'.format(recall))\n",
    "print('fscore: {}'.format(fscore))\n",
    "print('support: {}'.format(support))"
   ],
   "id": "f1e93a4a794d739e",
   "outputs": [
    {
     "name": "stdout",
     "output_type": "stream",
     "text": [
      "precision: [0.97383178 0.92775665]\n",
      "recall: [0.96481481 0.94573643]\n",
      "fscore: [0.96930233 0.93666027]\n",
      "support: [540 258]\n"
     ]
    },
    {
     "name": "stderr",
     "output_type": "stream",
     "text": [
      "/home/valerio/workspace/caltech/sentence_classification/venv/lib/python3.8/site-packages/sklearn/neural_network/_multilayer_perceptron.py:686: ConvergenceWarning: Stochastic Optimizer: Maximum iterations (200) reached and the optimization hasn't converged yet.\n",
      "  warnings.warn(\n"
     ]
    }
   ],
   "execution_count": 204
  },
  {
   "metadata": {
    "ExecuteTime": {
     "end_time": "2024-04-25T17:58:26.787802Z",
     "start_time": "2024-04-25T17:58:26.778686Z"
    }
   },
   "cell_type": "code",
   "source": [
    "precision, recall, fscore, support = score(test_set_classes_kinaseact, test_predictions, average='weighted')\n",
    "print('precision: {}'.format(precision))\n",
    "print('recall: {}'.format(recall))\n",
    "print('fscore: {}'.format(fscore))\n",
    "print('support: {}'.format(support))"
   ],
   "id": "686d785b9bea5a5f",
   "outputs": [
    {
     "name": "stdout",
     "output_type": "stream",
     "text": [
      "precision: 0.9589353077801287\n",
      "recall: 0.9586466165413534\n",
      "fscore: 0.9587488786242712\n",
      "support: None\n"
     ]
    }
   ],
   "execution_count": 205
  },
  {
   "metadata": {},
   "cell_type": "markdown",
   "source": "",
   "id": "d22c08eaa0f41e8d"
  }
 ],
 "metadata": {
  "kernelspec": {
   "display_name": "Python 3",
   "language": "python",
   "name": "python3"
  },
  "language_info": {
   "codemirror_mode": {
    "name": "ipython",
    "version": 2
   },
   "file_extension": ".py",
   "mimetype": "text/x-python",
   "name": "python",
   "nbconvert_exporter": "python",
   "pygments_lexer": "ipython2",
   "version": "2.7.6"
  }
 },
 "nbformat": 4,
 "nbformat_minor": 5
}
