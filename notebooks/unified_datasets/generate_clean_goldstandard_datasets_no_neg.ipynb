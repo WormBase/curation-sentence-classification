{
 "cells": [
  {
   "cell_type": "code",
   "metadata": {
    "ExecuteTime": {
     "end_time": "2024-04-25T17:38:42.200736Z",
     "start_time": "2024-04-25T17:38:42.196250Z"
    }
   },
   "source": "from sentence_classification.preprocess import clean_sentence",
   "outputs": [],
   "execution_count": 11
  },
  {
   "cell_type": "code",
   "metadata": {
    "ExecuteTime": {
     "end_time": "2024-04-25T17:55:22.152029Z",
     "start_time": "2024-04-25T17:55:21.974010Z"
    }
   },
   "source": [
    "expression_file_content = [line.split(\"\\t\") for line in open(\"../../gold_standard_sentences/expression.tsv\")]\n",
    "expression_data = expression_file_content[2:]\n",
    "expression_data = [row for row in expression_data if len(row) > 7 and row[2] and row[7]]\n",
    "\n",
    "kinaseact_file_content = [line.split(\"\\t\") for line in open(\"../../gold_standard_sentences/kinase_activity.tsv\")]\n",
    "kinaseact_data = kinaseact_file_content[1:]\n",
    "kinaseact_data = [row for row in kinaseact_data if row[2]]\n",
    "\n",
    "cleaned_expression_data = []\n",
    "for row in expression_data:\n",
    "    if row[7]:\n",
    "        cleaned_expression_data.append([clean_sentence(row[7]), 0 if row[12] != \"\" else 1 if row[13] != \"\" else 2 if row[14] != \"\" else 3 if row[15] != \"\" else 4 if row[16] != \"\" else 5 if row[17] != \"\" else 6 if row[18] != \"\" else 7 if row[19] != \"\" else 8 if row[20] != \"\" else 9, \"positive\" if row[22] != \"\" else \"negative\" if row[23] != \"\" else \"both\" if row[24] != \"\" else \"neutral\"])\n",
    "\n",
    "cleaned_kinaseact_data = []\n",
    "for row in kinaseact_data:\n",
    "    if row[7]:\n",
    "        cleaned_kinaseact_data.append([clean_sentence(row[7]), 0 if row[12] != \"\" else 1 if row[13] != \"\" else 2 if row[14] != \"\" else 3 if row[15] != \"\" else 4 if row[16] != \"\" else 5 if row[17] != \"\" else 6 if row[18] != \"\" else 7 if row[19] != \"\" else 8 if row[20] != \"\" else 9, \"positive\" if row[22] != \"\" else \"negative\" if row[23] != \"\" else \"both\" if row[24] != \"\" else \"neutral\"])\n",
    "\n",
    "with open(\"../../gold_standard_sentences/GROBID_clean_without_negative_otherexpr.csv\", \"w\") as f:\n",
    "    for line in [\"\\t\".join(map(str, line_arr)) for line_arr in cleaned_expression_data]:\n",
    "        f.write(line + \"\\n\")\n",
    "\n",
    "with open(\"../../gold_standard_sentences/GROBID_clean_without_negative_kinaseact.csv\", \"w\") as f:\n",
    "    for line in [\"\\t\".join(map(str, line_arr)) for line_arr in cleaned_kinaseact_data]:\n",
    "        f.write(line + \"\\n\")"
   ],
   "outputs": [],
   "execution_count": 25
  },
  {
   "cell_type": "code",
   "source": [],
   "metadata": {
    "collapsed": false,
    "is_executing": true
   },
   "outputs": [],
   "execution_count": null
  }
 ],
 "metadata": {
  "kernelspec": {
   "display_name": "Python 3 (ipykernel)",
   "language": "python",
   "name": "python3"
  },
  "language_info": {
   "codemirror_mode": {
    "name": "ipython",
    "version": 3
   },
   "file_extension": ".py",
   "mimetype": "text/x-python",
   "name": "python",
   "nbconvert_exporter": "python",
   "pygments_lexer": "ipython3",
   "version": "3.8.8"
  }
 },
 "nbformat": 4,
 "nbformat_minor": 1
}
