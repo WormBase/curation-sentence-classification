{
 "cells": [
  {
   "metadata": {
    "ExecuteTime": {
     "end_time": "2024-12-06T19:53:00.939288Z",
     "start_time": "2024-12-06T19:53:00.904623Z"
    }
   },
   "cell_type": "code",
   "source": [
    "expression_unified_ds = [line.strip().split(\"\\t\") for line in open(\"../unified_dataset/expression.tsv\")]\n",
    "kinaseact_unified_ds = [line.strip().split(\"\\t\") for line in open(\"../unified_dataset/kinaseact.tsv\")]"
   ],
   "id": "b749e4984a3226aa",
   "outputs": [],
   "execution_count": 1
  },
  {
   "metadata": {},
   "cell_type": "markdown",
   "source": "### Number of sentences in expression dataset",
   "id": "32ff4538668255df"
  },
  {
   "metadata": {
    "ExecuteTime": {
     "end_time": "2024-12-06T19:53:00.960906Z",
     "start_time": "2024-12-06T19:53:00.955211Z"
    }
   },
   "cell_type": "code",
   "source": "print(len(expression_unified_ds[1:]))",
   "id": "initial_id",
   "outputs": [
    {
     "name": "stdout",
     "output_type": "stream",
     "text": [
      "1986\n"
     ]
    }
   ],
   "execution_count": 2
  },
  {
   "metadata": {},
   "cell_type": "markdown",
   "source": "### Number of sentences in kinaseact dataset",
   "id": "256c36a38d3b10b2"
  },
  {
   "metadata": {
    "ExecuteTime": {
     "end_time": "2024-12-06T19:53:01.018222Z",
     "start_time": "2024-12-06T19:53:01.011677Z"
    }
   },
   "cell_type": "code",
   "source": "len(kinaseact_unified_ds[1:])",
   "id": "f205d20552c3cd6",
   "outputs": [
    {
     "data": {
      "text/plain": [
       "1932"
      ]
     },
     "execution_count": 3,
     "metadata": {},
     "output_type": "execute_result"
    }
   ],
   "execution_count": 3
  },
  {
   "metadata": {},
   "cell_type": "markdown",
   "source": "### Number of sentences positive for task 1 in expression dataset",
   "id": "ebdea1ef10970ef"
  },
  {
   "metadata": {
    "ExecuteTime": {
     "end_time": "2024-12-06T19:53:01.133999Z",
     "start_time": "2024-12-06T19:53:01.125385Z"
    }
   },
   "cell_type": "code",
   "source": "len([row for row in expression_unified_ds[1:] if int(row[2]) == 1])",
   "id": "8be6587aee5f3bdc",
   "outputs": [
    {
     "data": {
      "text/plain": [
       "310"
      ]
     },
     "execution_count": 4,
     "metadata": {},
     "output_type": "execute_result"
    }
   ],
   "execution_count": 4
  },
  {
   "metadata": {},
   "cell_type": "markdown",
   "source": "### Number of sentences positive for task 2 in expression dataset",
   "id": "cc5aa321b5d5e9ba"
  },
  {
   "metadata": {
    "ExecuteTime": {
     "end_time": "2024-12-06T19:53:01.187274Z",
     "start_time": "2024-12-06T19:53:01.181662Z"
    }
   },
   "cell_type": "code",
   "source": "len([row for row in expression_unified_ds[1:] if int(row[3]) == 1])",
   "id": "d15383bc1cfc1e7a",
   "outputs": [
    {
     "data": {
      "text/plain": [
       "442"
      ]
     },
     "execution_count": 5,
     "metadata": {},
     "output_type": "execute_result"
    }
   ],
   "execution_count": 5
  },
  {
   "metadata": {},
   "cell_type": "markdown",
   "source": "### Number of sentences positive for task 3 in expression dataset",
   "id": "194f6a4dc9af741b"
  },
  {
   "metadata": {
    "ExecuteTime": {
     "end_time": "2024-12-06T19:53:01.279082Z",
     "start_time": "2024-12-06T19:53:01.273758Z"
    }
   },
   "cell_type": "code",
   "source": "len([row for row in expression_unified_ds[1:] if int(row[4]) == 1])\n",
   "id": "cd10693209f06ef1",
   "outputs": [
    {
     "data": {
      "text/plain": [
       "786"
      ]
     },
     "execution_count": 6,
     "metadata": {},
     "output_type": "execute_result"
    }
   ],
   "execution_count": 6
  },
  {
   "metadata": {},
   "cell_type": "markdown",
   "source": "### Number of sentences positive for task 1 in kinase dataset",
   "id": "c7b82dedcfd751f1"
  },
  {
   "metadata": {
    "ExecuteTime": {
     "end_time": "2024-12-06T19:53:01.323705Z",
     "start_time": "2024-12-06T19:53:01.319341Z"
    }
   },
   "cell_type": "code",
   "source": "len([row for row in kinaseact_unified_ds[1:] if int(row[2]) == 1])",
   "id": "6e991893b8755375",
   "outputs": [
    {
     "data": {
      "text/plain": [
       "289"
      ]
     },
     "execution_count": 7,
     "metadata": {},
     "output_type": "execute_result"
    }
   ],
   "execution_count": 7
  },
  {
   "metadata": {},
   "cell_type": "markdown",
   "source": "### Number of sentences positive for task 2 in kinase dataset\n",
   "id": "b1f33c57704fa6ac"
  },
  {
   "metadata": {
    "ExecuteTime": {
     "end_time": "2024-12-06T19:53:01.400149Z",
     "start_time": "2024-12-06T19:53:01.396085Z"
    }
   },
   "cell_type": "code",
   "source": "len([row for row in kinaseact_unified_ds[1:] if int(row[3]) == 1])",
   "id": "928c1e1ea93e3173",
   "outputs": [
    {
     "data": {
      "text/plain": [
       "379"
      ]
     },
     "execution_count": 8,
     "metadata": {},
     "output_type": "execute_result"
    }
   ],
   "execution_count": 8
  },
  {
   "metadata": {},
   "cell_type": "markdown",
   "source": "### ### Number of sentences positive for task 3 in kinase dataset",
   "id": "cf77bb553a26758f"
  },
  {
   "metadata": {
    "ExecuteTime": {
     "end_time": "2024-12-06T19:53:01.446490Z",
     "start_time": "2024-12-06T19:53:01.441789Z"
    }
   },
   "cell_type": "code",
   "source": "len([row for row in kinaseact_unified_ds[1:] if int(row[4]) == 1])",
   "id": "34ea07ed9f8074e4",
   "outputs": [
    {
     "data": {
      "text/plain": [
       "664"
      ]
     },
     "execution_count": 9,
     "metadata": {},
     "output_type": "execute_result"
    }
   ],
   "execution_count": 9
  },
  {
   "metadata": {
    "ExecuteTime": {
     "end_time": "2024-12-06T19:53:01.505546Z",
     "start_time": "2024-12-06T19:53:01.503325Z"
    }
   },
   "cell_type": "code",
   "source": "",
   "id": "1916580d1d23b619",
   "outputs": [],
   "execution_count": null
  },
  {
   "metadata": {
    "ExecuteTime": {
     "end_time": "2024-12-06T19:53:01.547241Z",
     "start_time": "2024-12-06T19:53:01.545324Z"
    }
   },
   "cell_type": "code",
   "source": "",
   "id": "ece74896e15889d7",
   "outputs": [],
   "execution_count": null
  }
 ],
 "metadata": {
  "kernelspec": {
   "display_name": "Python 3",
   "language": "python",
   "name": "python3"
  },
  "language_info": {
   "codemirror_mode": {
    "name": "ipython",
    "version": 2
   },
   "file_extension": ".py",
   "mimetype": "text/x-python",
   "name": "python",
   "nbconvert_exporter": "python",
   "pygments_lexer": "ipython2",
   "version": "2.7.6"
  }
 },
 "nbformat": 4,
 "nbformat_minor": 5
}
