{
 "cells": [
  {
   "metadata": {
    "ExecuteTime": {
     "end_time": "2024-05-29T18:21:23.712935Z",
     "start_time": "2024-05-29T18:21:23.689417Z"
    }
   },
   "cell_type": "code",
   "source": [
    "expression_unified_ds = [line.strip().split(\"\\t\") for line in open(\"../unified_dataset/expression.tsv\")]\n",
    "kinaseact_unified_ds = [line.strip().split(\"\\t\") for line in open(\"../unified_dataset/kinaseact.tsv\")]"
   ],
   "id": "b749e4984a3226aa",
   "outputs": [],
   "execution_count": 1
  },
  {
   "metadata": {},
   "cell_type": "markdown",
   "source": "### Number of sentences in expression dataset",
   "id": "32ff4538668255df"
  },
  {
   "metadata": {
    "ExecuteTime": {
     "end_time": "2024-05-29T18:21:23.719751Z",
     "start_time": "2024-05-29T18:21:23.714237Z"
    }
   },
   "cell_type": "code",
   "source": "len(expression_unified_ds[1:])",
   "id": "initial_id",
   "outputs": [
    {
     "data": {
      "text/plain": [
       "2090"
      ]
     },
     "execution_count": 2,
     "metadata": {},
     "output_type": "execute_result"
    }
   ],
   "execution_count": 2
  },
  {
   "metadata": {},
   "cell_type": "markdown",
   "source": "### Number of sentences in kinaseact dataset",
   "id": "256c36a38d3b10b2"
  },
  {
   "metadata": {
    "ExecuteTime": {
     "end_time": "2024-05-29T18:21:23.730286Z",
     "start_time": "2024-05-29T18:21:23.721226Z"
    }
   },
   "cell_type": "code",
   "source": "len(kinaseact_unified_ds[1:])",
   "id": "f205d20552c3cd6",
   "outputs": [
    {
     "data": {
      "text/plain": [
       "1995"
      ]
     },
     "execution_count": 3,
     "metadata": {},
     "output_type": "execute_result"
    }
   ],
   "execution_count": 3
  },
  {
   "metadata": {},
   "cell_type": "markdown",
   "source": "### Number of sentences positive for task 1 in expression dataset",
   "id": "ebdea1ef10970ef"
  },
  {
   "metadata": {
    "ExecuteTime": {
     "end_time": "2024-05-29T18:21:23.742013Z",
     "start_time": "2024-05-29T18:21:23.731201Z"
    }
   },
   "cell_type": "code",
   "source": "len([row for row in expression_unified_ds[1:] if int(row[1]) == 1])",
   "id": "8be6587aee5f3bdc",
   "outputs": [
    {
     "data": {
      "text/plain": [
       "311"
      ]
     },
     "execution_count": 4,
     "metadata": {},
     "output_type": "execute_result"
    }
   ],
   "execution_count": 4
  },
  {
   "metadata": {},
   "cell_type": "markdown",
   "source": "### Number of sentences positive for task 2 in expression dataset",
   "id": "cc5aa321b5d5e9ba"
  },
  {
   "metadata": {
    "ExecuteTime": {
     "end_time": "2024-05-29T18:21:23.753900Z",
     "start_time": "2024-05-29T18:21:23.744309Z"
    }
   },
   "cell_type": "code",
   "source": "len([row for row in expression_unified_ds[1:] if int(row[2]) == 1])",
   "id": "d15383bc1cfc1e7a",
   "outputs": [
    {
     "data": {
      "text/plain": [
       "437"
      ]
     },
     "execution_count": 5,
     "metadata": {},
     "output_type": "execute_result"
    }
   ],
   "execution_count": 5
  },
  {
   "metadata": {},
   "cell_type": "markdown",
   "source": "### Number of sentences positive for task 3 in expression dataset",
   "id": "194f6a4dc9af741b"
  },
  {
   "metadata": {
    "ExecuteTime": {
     "end_time": "2024-05-29T18:21:23.764393Z",
     "start_time": "2024-05-29T18:21:23.755433Z"
    }
   },
   "cell_type": "code",
   "source": "len([row for row in expression_unified_ds[1:] if int(row[3]) == 1])\n",
   "id": "cd10693209f06ef1",
   "outputs": [
    {
     "data": {
      "text/plain": [
       "784"
      ]
     },
     "execution_count": 6,
     "metadata": {},
     "output_type": "execute_result"
    }
   ],
   "execution_count": 6
  },
  {
   "metadata": {},
   "cell_type": "markdown",
   "source": "### Number of sentences positive for task 1 in kinase dataset",
   "id": "c7b82dedcfd751f1"
  },
  {
   "metadata": {
    "ExecuteTime": {
     "end_time": "2024-05-29T18:21:23.775618Z",
     "start_time": "2024-05-29T18:21:23.765905Z"
    }
   },
   "cell_type": "code",
   "source": "len([row for row in kinaseact_unified_ds[1:] if int(row[1]) == 1])",
   "id": "6e991893b8755375",
   "outputs": [
    {
     "data": {
      "text/plain": [
       "298"
      ]
     },
     "execution_count": 7,
     "metadata": {},
     "output_type": "execute_result"
    }
   ],
   "execution_count": 7
  },
  {
   "metadata": {},
   "cell_type": "markdown",
   "source": "### Number of sentences positive for task 2 in kinase dataset\n",
   "id": "b1f33c57704fa6ac"
  },
  {
   "metadata": {
    "ExecuteTime": {
     "end_time": "2024-05-29T18:21:23.787353Z",
     "start_time": "2024-05-29T18:21:23.776905Z"
    }
   },
   "cell_type": "code",
   "source": "len([row for row in kinaseact_unified_ds[1:] if int(row[2]) == 1])",
   "id": "928c1e1ea93e3173",
   "outputs": [
    {
     "data": {
      "text/plain": [
       "365"
      ]
     },
     "execution_count": 8,
     "metadata": {},
     "output_type": "execute_result"
    }
   ],
   "execution_count": 8
  },
  {
   "metadata": {},
   "cell_type": "markdown",
   "source": "### ### Number of sentences positive for task 3 in kinase dataset",
   "id": "cf77bb553a26758f"
  },
  {
   "metadata": {
    "ExecuteTime": {
     "end_time": "2024-05-29T18:21:23.798961Z",
     "start_time": "2024-05-29T18:21:23.788737Z"
    }
   },
   "cell_type": "code",
   "source": "len([row for row in kinaseact_unified_ds[1:] if int(row[3]) == 1])",
   "id": "34ea07ed9f8074e4",
   "outputs": [
    {
     "data": {
      "text/plain": [
       "667"
      ]
     },
     "execution_count": 9,
     "metadata": {},
     "output_type": "execute_result"
    }
   ],
   "execution_count": 9
  },
  {
   "metadata": {
    "ExecuteTime": {
     "end_time": "2024-05-29T18:21:23.802712Z",
     "start_time": "2024-05-29T18:21:23.800405Z"
    }
   },
   "cell_type": "code",
   "source": "",
   "id": "1916580d1d23b619",
   "outputs": [],
   "execution_count": 9
  },
  {
   "metadata": {
    "ExecuteTime": {
     "end_time": "2024-05-29T18:21:23.806147Z",
     "start_time": "2024-05-29T18:21:23.803931Z"
    }
   },
   "cell_type": "code",
   "source": "",
   "id": "ece74896e15889d7",
   "outputs": [],
   "execution_count": 9
  }
 ],
 "metadata": {
  "kernelspec": {
   "display_name": "Python 3",
   "language": "python",
   "name": "python3"
  },
  "language_info": {
   "codemirror_mode": {
    "name": "ipython",
    "version": 2
   },
   "file_extension": ".py",
   "mimetype": "text/x-python",
   "name": "python",
   "nbconvert_exporter": "python",
   "pygments_lexer": "ipython2",
   "version": "2.7.6"
  }
 },
 "nbformat": 4,
 "nbformat_minor": 5
}
