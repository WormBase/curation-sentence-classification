{
 "cells": [
  {
   "cell_type": "markdown",
   "source": [],
   "metadata": {
    "collapsed": false
   },
   "id": "6d26b2a28258b6bd"
  },
  {
   "cell_type": "code",
   "outputs": [],
   "source": [
    "import random\n",
    "\n",
    "import joblib\n",
    "import sent2vec\n",
    "from scipy import spatial\n",
    "from numpy import loadtxt"
   ],
   "metadata": {
    "collapsed": false,
    "ExecuteTime": {
     "end_time": "2024-03-02T02:10:22.016960600Z",
     "start_time": "2024-03-02T02:10:21.935719143Z"
    }
   },
   "id": "74358c5b8cd370f8",
   "execution_count": 1
  },
  {
   "cell_type": "code",
   "outputs": [
    {
     "name": "stdout",
     "output_type": "stream",
     "text": [
      "model successfully loaded\n"
     ]
    }
   ],
   "source": [
    "\n",
    "model_path = \"../biosentvec/model.bin\"\n",
    "biosentvec_model = sent2vec.Sent2vecModel()\n",
    "try:\n",
    "    biosentvec_model.load_model(model_path)\n",
    "except Exception as e:\n",
    "    print(e)\n",
    "print('model successfully loaded')"
   ],
   "metadata": {
    "collapsed": false,
    "ExecuteTime": {
     "end_time": "2024-03-02T02:11:10.828976078Z",
     "start_time": "2024-03-02T02:11:10.782801725Z"
    }
   },
   "id": "4aacd9696e0fb3f7",
   "execution_count": 2
  },
  {
   "cell_type": "markdown",
   "source": [
    "### For each datatype, taken 5 nn high, 5 med, 5 low and 15 neg, extracted all sentences with GROBID\n",
    "### Merged all sentences together and taken random sample of 1000 sentences"
   ],
   "metadata": {
    "collapsed": false
   },
   "id": "382048f07df7fc57"
  },
  {
   "cell_type": "code",
   "outputs": [],
   "source": [
    "neg_expr = [line.strip() for line in open(\"../extracted_sentences/GROBID_neg_sentences_expr.txt\")]\n",
    "high_expr = [line.strip() for line in open(\"../extracted_sentences/GROBID_validation_nnc_high_expr.txt\")]\n",
    "med_expr = [line.strip() for line in open(\"../extracted_sentences/GROBID_validation_nnc_med_expr.txt\")]\n",
    "low_expr = [line.strip() for line in open(\"../extracted_sentences/GROBID_validation_nnc_low_expr.txt\")]\n",
    "validation_expr = list({*neg_expr, *high_expr, *med_expr, *low_expr})\n",
    "random.shuffle(validation_expr)\n",
    "validation_expr = validation_expr[0:1000]\n",
    "validation_expr = [line.split(\"\\t\") for line in validation_expr]"
   ],
   "metadata": {
    "collapsed": false,
    "ExecuteTime": {
     "end_time": "2024-03-02T02:11:10.829246967Z",
     "start_time": "2024-03-02T02:11:10.827990755Z"
    }
   },
   "id": "bafe46b579405d9b",
   "execution_count": 3
  },
  {
   "cell_type": "code",
   "outputs": [],
   "source": [
    "neg_kinase = [line.strip() for line in open(\"../extracted_sentences/GROBID_neg_sentences_kinase.txt\")]\n",
    "high_kinase = [line.strip() for line in open(\"../extracted_sentences/GROBID_validation_nnc_high_kinase.txt\")]\n",
    "med_kinase = [line.strip() for line in open(\"../extracted_sentences/GROBID_validation_nnc_med_kinase.txt\")]\n",
    "low_kinase = [line.strip() for line in open(\"../extracted_sentences/GROBID_validation_nnc_low_kinase.txt\")]\n",
    "validation_kinase = list({*neg_kinase, *high_kinase, *med_kinase, *low_kinase})\n",
    "random.shuffle(validation_kinase)\n",
    "validation_kinase = validation_kinase[0:1000]\n",
    "validation_kinase = [line.split(\"\\t\") for line in validation_kinase]"
   ],
   "metadata": {
    "collapsed": true,
    "ExecuteTime": {
     "end_time": "2024-03-02T02:14:28.517638393Z",
     "start_time": "2024-03-02T02:14:28.498282951Z"
    }
   },
   "id": "initial_id",
   "execution_count": 5
  },
  {
   "cell_type": "markdown",
   "source": [
    "### Get sentence embeddings on validation sets"
   ],
   "metadata": {
    "collapsed": false
   },
   "id": "531a54ffb6eda03f"
  },
  {
   "cell_type": "code",
   "outputs": [],
   "source": [
    "embedded_expr = biosentvec_model.embed_sentences([sent[1] for sent in validation_expr])\n",
    "embedded_kinase = biosentvec_model.embed_sentences([sent[1] for sent in validation_kinase])"
   ],
   "metadata": {
    "collapsed": false,
    "ExecuteTime": {
     "end_time": "2024-03-02T02:14:30.914188312Z",
     "start_time": "2024-03-02T02:14:30.904026551Z"
    }
   },
   "id": "70ac883269f8787b",
   "execution_count": 6
  },
  {
   "cell_type": "markdown",
   "source": [
    "### Classify expression sentences using db similarity classifier"
   ],
   "metadata": {
    "collapsed": false
   },
   "id": "bbb27652e1d2df74"
  },
  {
   "cell_type": "code",
   "outputs": [],
   "source": [
    "centroid_exp_pattern_embeddings_bio = loadtxt(\"../sentence_embeddings/centroid_biosentvec_expr_pattern.csv\")\n",
    "centroid_subcellloc_embeddings_bio = loadtxt(\"../sentence_embeddings/centroid_biosentvec_subcellloc.csv\")\n",
    "db_sim_classifications_expr = []\n",
    "for i, emb in enumerate(embedded_expr):\n",
    "    if any([feat > 0 for feat in emb]):\n",
    "        sim_expr_pattern = 1 - spatial.distance.cosine(centroid_exp_pattern_embeddings_bio, emb)\n",
    "        sim_subcellloc = 1 - spatial.distance.cosine(centroid_subcellloc_embeddings_bio, emb)\n",
    "        if sim_expr_pattern > 0.45 or sim_subcellloc > 0.45:\n",
    "            db_sim_classifications_expr.append(\"TRUE\")\n",
    "        else:\n",
    "            db_sim_classifications_expr.append(\"FALSE\")\n",
    "    else:\n",
    "        db_sim_classifications_expr.append(\"NA\")"
   ],
   "metadata": {
    "collapsed": false
   },
   "id": "28146e2cb67bf10b"
  },
  {
   "cell_type": "markdown",
   "source": [
    "### Classify expression and kinaseact using gold sentences trained classifiers"
   ],
   "metadata": {
    "collapsed": false
   },
   "id": "51a54a8e3ebd6cf2"
  },
  {
   "cell_type": "code",
   "outputs": [],
   "source": [
    "sentence_classifier_all_info_expression = joblib.load(\"../classifiers/all_info_expression.joblib\")\n",
    "sentence_classifier_curatable_expression = joblib.load(\"../classifiers/curatable_expression.joblib\")\n",
    "sentence_classifier_language_expression = joblib.load(\"../classifiers/language_expression.joblib\")\n",
    "sentence_classifier_all_info_kinase = joblib.load(\"../classifiers/all_info_kinase.joblib\")\n",
    "sentence_classifier_curatable_kinase = joblib.load(\"../classifiers/curatable_kinase.joblib\")\n",
    "sentence_classifier_language_kinase = joblib.load(\"../classifiers/language_kinase.joblib\")"
   ],
   "metadata": {
    "collapsed": false
   },
   "id": "6be4b241687037dc"
  },
  {
   "cell_type": "code",
   "outputs": [],
   "source": [
    "gold_sent_classifications_all_info_expr = sentence_classifier_all_info_expression.predict(embedded_expr).tolist()\n",
    "gold_sent_classifications_curatable_expr = sentence_classifier_curatable_expression.predict(embedded_expr).tolist()\n",
    "gold_sent_classifications_language_expr = sentence_classifier_language_expression.predict(embedded_expr).tolist()\n",
    "\n",
    "gold_sent_classifications_all_info_kinase = sentence_classifier_all_info_kinase.predict(embedded_kinase).tolist()\n",
    "gold_sent_classifications_curatable_kinase = sentence_classifier_curatable_kinase.predict(embedded_kinase).tolist()\n",
    "gold_sent_classifications_language_kinase = sentence_classifier_language_kinase.predict(embedded_kinase).tolist()"
   ],
   "metadata": {
    "collapsed": false
   },
   "id": "8ecfd5d57e248ae3"
  },
  {
   "cell_type": "markdown",
   "source": [
    "### Merge sentences and classifications and save to file"
   ],
   "metadata": {
    "collapsed": false
   },
   "id": "eb9cde73ada200d8"
  },
  {
   "cell_type": "code",
   "outputs": [],
   "source": [
    "with open(\"../extracted_sentences/GROBID_validation_set_filled_expr.txt\", \"w\") as outfile:\n",
    "    for i, sentence in enumerate(validation_expr):\n",
    "        outfile.write(sentence[0] + \"\\t\" + sentence[1] + \"\\t\" + db_sim_classifications_expr[i] + \"\\t\" + \"TRUE\" if gold_sent_classifications_all_info_expr[i] == 1 else \"FALSE\" + \"\\t\" + \"TRUE\" if gold_sent_classifications_curatable_expr[i] == 1 else \"FALSE\" + \"\\t\" + \"TRUE\" if gold_sent_classifications_language_expr[1] else \"FALSE\" + \"\\n\")"
   ],
   "metadata": {
    "collapsed": false
   },
   "id": "502c201dd03dab40"
  },
  {
   "cell_type": "code",
   "outputs": [],
   "source": [
    "with open(\"../extracted_sentences/GROBID_validation_set_filled_kinase.txt\", \"w\") as outfile:\n",
    "    for i, sentence in enumerate(validation_kinase):\n",
    "        outfile.write(sentence[0] + \"\\t\" + sentence[1] + \"\\t\" + \"TRUE\" if gold_sent_classifications_all_info_kinase[i] == 1 else \"FALSE\" + \"\\t\" + \"TRUE\" if gold_sent_classifications_curatable_kinase[i] == 1 else \"FALSE\" + \"\\t\" + \"TRUE\" if gold_sent_classifications_language_kinase[1] else \"FALSE\" + \"\\n\")"
   ],
   "metadata": {
    "collapsed": false
   },
   "id": "82b45c4371a7b9ce"
  }
 ],
 "metadata": {
  "kernelspec": {
   "display_name": "Python 3",
   "language": "python",
   "name": "python3"
  },
  "language_info": {
   "codemirror_mode": {
    "name": "ipython",
    "version": 2
   },
   "file_extension": ".py",
   "mimetype": "text/x-python",
   "name": "python",
   "nbconvert_exporter": "python",
   "pygments_lexer": "ipython2",
   "version": "2.7.6"
  }
 },
 "nbformat": 4,
 "nbformat_minor": 5
}
