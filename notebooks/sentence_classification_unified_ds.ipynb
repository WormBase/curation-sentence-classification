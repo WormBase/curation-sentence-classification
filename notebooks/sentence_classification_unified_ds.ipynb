{
 "cells": [
  {
   "cell_type": "code",
   "id": "initial_id",
   "metadata": {
    "collapsed": true,
    "ExecuteTime": {
     "end_time": "2024-05-03T23:50:17.963981Z",
     "start_time": "2024-05-03T23:50:17.810631Z"
    }
   },
   "source": [
    "import sent2vec\n",
    "\n",
    "expression_unified_ds = [line.strip().split(\"\\t\") for line in open(\"../unified_dataset/expression.tsv\")][1:]\n",
    "kinaseact_unified_ds = [line.strip().split(\"\\t\") for line in open(\"../unified_dataset/kinaseact.tsv\")][1:]\n",
    "\n",
    "sentences_only_expression_data = [row[0] for row in expression_unified_ds]\n",
    "sentences_only_kinaseact_data = [row[0] for row in kinaseact_unified_ds]\n",
    "bio_sent_vec_model_location = \"../biosentvec/model.bin\""
   ],
   "outputs": [],
   "execution_count": 1
  },
  {
   "metadata": {
    "ExecuteTime": {
     "end_time": "2024-05-03T23:50:31.531831Z",
     "start_time": "2024-05-03T23:50:17.965705Z"
    }
   },
   "cell_type": "code",
   "source": [
    "model_path = bio_sent_vec_model_location\n",
    "biosentvec_model = sent2vec.Sent2vecModel()\n",
    "try:\n",
    "    biosentvec_model.load_model(model_path)\n",
    "except Exception as e:\n",
    "    print(e)\n",
    "print('model successfully loaded')"
   ],
   "id": "bd2001e0fce48079",
   "outputs": [
    {
     "name": "stdout",
     "output_type": "stream",
     "text": [
      "model successfully loaded\n"
     ]
    }
   ],
   "execution_count": 2
  },
  {
   "metadata": {
    "ExecuteTime": {
     "end_time": "2024-05-03T23:50:31.628693Z",
     "start_time": "2024-05-03T23:50:31.533258Z"
    }
   },
   "cell_type": "code",
   "source": [
    "corpus_expr = biosentvec_model.embed_sentences(sentences_only_expression_data)\n",
    "corpus_kinaseact = biosentvec_model.embed_sentences(sentences_only_kinaseact_data)"
   ],
   "id": "adef9e82e799687e",
   "outputs": [],
   "execution_count": 3
  },
  {
   "metadata": {
    "ExecuteTime": {
     "end_time": "2024-05-03T23:50:31.985313Z",
     "start_time": "2024-05-03T23:50:31.630122Z"
    }
   },
   "cell_type": "code",
   "source": [
    "from sklearn.neural_network import MLPClassifier\n",
    "from sklearn.metrics import precision_recall_fscore_support as score\n",
    "import joblib\n",
    "\n",
    "base_clf = MLPClassifier(hidden_layer_sizes=(10, 10), alpha=0.1)\n",
    "training_set_expression = [corpus_expr[idx] for idx, row in enumerate(expression_unified_ds) if row[5] == \"TRAINING\"]\n",
    "testing_set_expression = [corpus_expr[idx] for idx, row in enumerate(expression_unified_ds) if row[5] == \"TESTING\"]\n",
    "\n",
    "training_set_kinaseact = [corpus_kinaseact[idx] for idx, row in enumerate(kinaseact_unified_ds) if row[5] == \"TRAINING\"]\n",
    "testing_set_kinaseact = [corpus_kinaseact[idx] for idx, row in enumerate(kinaseact_unified_ds) if row[5] == \"TESTING\"]"
   ],
   "id": "879d5154834b2dab",
   "outputs": [],
   "execution_count": 4
  },
  {
   "metadata": {},
   "cell_type": "markdown",
   "source": "## Task 1",
   "id": "5d8c55f3262ed2e8"
  },
  {
   "metadata": {},
   "cell_type": "markdown",
   "source": "### Expression",
   "id": "af3bad264335987a"
  },
  {
   "metadata": {
    "ExecuteTime": {
     "end_time": "2024-05-03T23:50:33.720017Z",
     "start_time": "2024-05-03T23:50:31.987847Z"
    }
   },
   "cell_type": "code",
   "source": [
    "training_set_classes_expr = [int(row[1]) for row in expression_unified_ds if row[5] == \"TRAINING\"]\n",
    "test_set_classes_expr = [int(row[1]) for row in expression_unified_ds if row[5] == \"TESTING\"]\n",
    "clf = base_clf.fit(training_set_expression, training_set_classes_expr)\n",
    "test_predictions = list(clf.predict(testing_set_expression))\n",
    "precision, recall, fscore, support = score(test_set_classes_expr, test_predictions)\n",
    "print('precision: {}'.format(precision))\n",
    "print('recall: {}'.format(recall))\n",
    "print('fscore: {}'.format(fscore))\n",
    "print('support: {}'.format(support))"
   ],
   "id": "55f808b94982ec5",
   "outputs": [
    {
     "name": "stdout",
     "output_type": "stream",
     "text": [
      "precision: [0.95621469 0.6953125 ]\n",
      "recall: [0.94553073 0.74166667]\n",
      "fscore: [0.9508427  0.71774194]\n",
      "support: [716 120]\n"
     ]
    },
    {
     "name": "stderr",
     "output_type": "stream",
     "text": [
      "/home/valerio/workspace/caltech/sentence_classification/venv/lib/python3.8/site-packages/sklearn/neural_network/_multilayer_perceptron.py:686: ConvergenceWarning: Stochastic Optimizer: Maximum iterations (200) reached and the optimization hasn't converged yet.\n",
      "  warnings.warn(\n"
     ]
    }
   ],
   "execution_count": 5
  },
  {
   "metadata": {},
   "cell_type": "markdown",
   "source": "### Kinaseact",
   "id": "b6770c24a3ddf24c"
  },
  {
   "metadata": {
    "ExecuteTime": {
     "end_time": "2024-05-03T23:50:35.112011Z",
     "start_time": "2024-05-03T23:50:33.721649Z"
    }
   },
   "cell_type": "code",
   "source": [
    "training_set_classes_kinaseact = [int(row[1]) for row in kinaseact_unified_ds if row[5] == \"TRAINING\"]\n",
    "test_set_classes_kinaseact = [int(row[1]) for row in kinaseact_unified_ds if row[5] == \"TESTING\"]\n",
    "clf = base_clf.fit(training_set_kinaseact, training_set_classes_kinaseact)\n",
    "test_predictions = list(clf.predict(testing_set_kinaseact))\n",
    "precision, recall, fscore, support = score(test_set_classes_kinaseact, test_predictions)\n",
    "print('precision: {}'.format(precision))\n",
    "print('recall: {}'.format(recall))\n",
    "print('fscore: {}'.format(fscore))\n",
    "print('support: {}'.format(support))"
   ],
   "id": "e0a3f719c210dfd3",
   "outputs": [
    {
     "name": "stdout",
     "output_type": "stream",
     "text": [
      "precision: [0.96226415 0.74311927]\n",
      "recall: [0.95947902 0.75700935]\n",
      "fscore: [0.96086957 0.75      ]\n",
      "support: [691 107]\n"
     ]
    },
    {
     "name": "stderr",
     "output_type": "stream",
     "text": [
      "/home/valerio/workspace/caltech/sentence_classification/venv/lib/python3.8/site-packages/sklearn/neural_network/_multilayer_perceptron.py:686: ConvergenceWarning: Stochastic Optimizer: Maximum iterations (200) reached and the optimization hasn't converged yet.\n",
      "  warnings.warn(\n"
     ]
    }
   ],
   "execution_count": 6
  },
  {
   "metadata": {},
   "cell_type": "markdown",
   "source": "## Task 2",
   "id": "11ff862cd16adfe8"
  },
  {
   "metadata": {},
   "cell_type": "markdown",
   "source": "### Expression",
   "id": "5ca065dbdb12cbf1"
  },
  {
   "metadata": {
    "ExecuteTime": {
     "end_time": "2024-05-03T23:50:36.901303Z",
     "start_time": "2024-05-03T23:50:35.115024Z"
    }
   },
   "cell_type": "code",
   "source": [
    "training_set_classes_expr = [int(row[2]) for row in expression_unified_ds if row[5] == \"TRAINING\"]\n",
    "test_set_classes_expr = [int(row[2]) for row in expression_unified_ds if row[5] == \"TESTING\"]\n",
    "clf = base_clf.fit(training_set_expression, training_set_classes_expr)\n",
    "test_predictions = list(clf.predict(testing_set_expression))\n",
    "precision, recall, fscore, support = score(test_set_classes_expr, test_predictions)\n",
    "print('precision: {}'.format(precision))\n",
    "print('recall: {}'.format(recall))\n",
    "print('fscore: {}'.format(fscore))\n",
    "print('support: {}'.format(support))"
   ],
   "id": "ec4d119f5037b528",
   "outputs": [
    {
     "name": "stdout",
     "output_type": "stream",
     "text": [
      "precision: [0.97384615 0.79032258]\n",
      "recall: [0.94196429 0.89634146]\n",
      "fscore: [0.95763994 0.84      ]\n",
      "support: [672 164]\n"
     ]
    }
   ],
   "execution_count": 7
  },
  {
   "metadata": {},
   "cell_type": "markdown",
   "source": "### Kinaseact",
   "id": "fc18552ac3a805de"
  },
  {
   "metadata": {
    "ExecuteTime": {
     "end_time": "2024-05-03T23:50:38.258005Z",
     "start_time": "2024-05-03T23:50:36.907230Z"
    }
   },
   "cell_type": "code",
   "source": [
    "training_set_classes_kinaseact = [int(row[2]) for row in kinaseact_unified_ds if row[5] == \"TRAINING\"]\n",
    "test_set_classes_kinaseact = [int(row[2]) for row in kinaseact_unified_ds if row[5] == \"TESTING\"]\n",
    "clf = base_clf.fit(training_set_kinaseact, training_set_classes_kinaseact)\n",
    "test_predictions = list(clf.predict(testing_set_kinaseact))\n",
    "precision, recall, fscore, support = score(test_set_classes_kinaseact, test_predictions)\n",
    "print('precision: {}'.format(precision))\n",
    "print('recall: {}'.format(recall))\n",
    "print('fscore: {}'.format(fscore))\n",
    "print('support: {}'.format(support))"
   ],
   "id": "429d03c1a9cfdf70",
   "outputs": [
    {
     "name": "stdout",
     "output_type": "stream",
     "text": [
      "precision: [0.96078431 0.76296296]\n",
      "recall: [0.95216741 0.79844961]\n",
      "fscore: [0.95645646 0.78030303]\n",
      "support: [669 129]\n"
     ]
    },
    {
     "name": "stderr",
     "output_type": "stream",
     "text": [
      "/home/valerio/workspace/caltech/sentence_classification/venv/lib/python3.8/site-packages/sklearn/neural_network/_multilayer_perceptron.py:686: ConvergenceWarning: Stochastic Optimizer: Maximum iterations (200) reached and the optimization hasn't converged yet.\n",
      "  warnings.warn(\n"
     ]
    }
   ],
   "execution_count": 8
  },
  {
   "metadata": {},
   "cell_type": "markdown",
   "source": "## Task 3",
   "id": "36d099add3a321b6"
  },
  {
   "metadata": {},
   "cell_type": "markdown",
   "source": "### Expression",
   "id": "caf3253b743b1076"
  },
  {
   "metadata": {
    "ExecuteTime": {
     "end_time": "2024-05-03T23:50:39.837461Z",
     "start_time": "2024-05-03T23:50:38.259300Z"
    }
   },
   "cell_type": "code",
   "source": [
    "training_set_classes_expr = [int(row[3]) for row in expression_unified_ds if row[5] == \"TRAINING\"]\n",
    "test_set_classes_expr = [int(row[3]) for row in expression_unified_ds if row[5] == \"TESTING\"]\n",
    "clf = base_clf.fit(training_set_expression, training_set_classes_expr)\n",
    "test_predictions = list(clf.predict(testing_set_expression))\n",
    "precision, recall, fscore, support = score(test_set_classes_expr, test_predictions)\n",
    "print('precision: {}'.format(precision))\n",
    "print('recall: {}'.format(recall))\n",
    "print('fscore: {}'.format(fscore))\n",
    "print('support: {}'.format(support))"
   ],
   "id": "cf286668b3e240a8",
   "outputs": [
    {
     "name": "stdout",
     "output_type": "stream",
     "text": [
      "precision: [0.93579767 0.8757764 ]\n",
      "recall: [0.92322457 0.8952381 ]\n",
      "fscore: [0.9294686  0.88540031]\n",
      "support: [521 315]\n"
     ]
    }
   ],
   "execution_count": 9
  },
  {
   "metadata": {},
   "cell_type": "markdown",
   "source": "### Kinaseact",
   "id": "57126e4f0d5c19c0"
  },
  {
   "metadata": {
    "ExecuteTime": {
     "end_time": "2024-05-03T23:50:41.385361Z",
     "start_time": "2024-05-03T23:50:39.838667Z"
    }
   },
   "cell_type": "code",
   "source": [
    "training_set_classes_kinaseact = [int(row[3]) for row in kinaseact_unified_ds if row[5] == \"TRAINING\"]\n",
    "test_set_classes_kinaseact = [int(row[3]) for row in kinaseact_unified_ds if row[5] == \"TESTING\"]\n",
    "clf = base_clf.fit(training_set_kinaseact, training_set_classes_kinaseact)\n",
    "test_predictions = list(clf.predict(testing_set_kinaseact))\n",
    "precision, recall, fscore, support = score(test_set_classes_kinaseact, test_predictions)\n",
    "print('precision: {}'.format(precision))\n",
    "print('recall: {}'.format(recall))\n",
    "print('fscore: {}'.format(fscore))\n",
    "print('support: {}'.format(support))"
   ],
   "id": "f1e93a4a794d739e",
   "outputs": [
    {
     "name": "stdout",
     "output_type": "stream",
     "text": [
      "precision: [0.97277677 0.94736842]\n",
      "recall: [0.97632058 0.93975904]\n",
      "fscore: [0.97454545 0.94354839]\n",
      "support: [549 249]\n"
     ]
    },
    {
     "name": "stderr",
     "output_type": "stream",
     "text": [
      "/home/valerio/workspace/caltech/sentence_classification/venv/lib/python3.8/site-packages/sklearn/neural_network/_multilayer_perceptron.py:686: ConvergenceWarning: Stochastic Optimizer: Maximum iterations (200) reached and the optimization hasn't converged yet.\n",
      "  warnings.warn(\n"
     ]
    }
   ],
   "execution_count": 10
  },
  {
   "metadata": {},
   "cell_type": "markdown",
   "source": "",
   "id": "d22c08eaa0f41e8d"
  }
 ],
 "metadata": {
  "kernelspec": {
   "display_name": "Python 3",
   "language": "python",
   "name": "python3"
  },
  "language_info": {
   "codemirror_mode": {
    "name": "ipython",
    "version": 2
   },
   "file_extension": ".py",
   "mimetype": "text/x-python",
   "name": "python",
   "nbconvert_exporter": "python",
   "pygments_lexer": "ipython2",
   "version": "2.7.6"
  }
 },
 "nbformat": 4,
 "nbformat_minor": 5
}
