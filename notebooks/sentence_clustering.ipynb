{
 "cells": [
  {
   "cell_type": "code",
   "execution_count": 46,
   "metadata": {
    "collapsed": true
   },
   "outputs": [
    {
     "name": "stdout",
     "output_type": "stream",
     "text": [
      "huggingface/tokenizers: The current process just got forked, after parallelism has already been used. Disabling parallelism to avoid deadlocks...\n",
      "To disable this warning, you can either:\n",
      "\t- Avoid using `tokenizers` before the fork if possible\n",
      "\t- Explicitly set the environment variable TOKENIZERS_PARALLELISM=(true | false)\n",
      "huggingface/tokenizers: The current process just got forked, after parallelism has already been used. Disabling parallelism to avoid deadlocks...\n",
      "To disable this warning, you can either:\n",
      "\t- Avoid using `tokenizers` before the fork if possible\n",
      "\t- Explicitly set the environment variable TOKENIZERS_PARALLELISM=(true | false)\n"
     ]
    }
   ],
   "source": [
    "from wbtools.lib.nlp.text_preprocessing import get_documents_from_text\n",
    "from sentence_transformers import SentenceTransformer\n",
    "from sklearn.cluster import KMeans\n",
    "from matplotlib import pyplot as plt"
   ]
  },
  {
   "cell_type": "code",
   "execution_count": 48,
   "outputs": [
    {
     "data": {
      "text/plain": "['Body wall muscle cells and vulval muscle cells of adult  hermaphrodites.',\n 'Beta-galactosidase is nuclear localized',\n 'Post-embryonic expression.',\n 'Hypodermis, neurons and muscle',\n 'Expression is seen occasionally in 3-fold embryos and early larval stages but more consistently in late larvae and adults.',\n 'Staining is seen in the cell bodies of neurons adjacent to the nerve ring.',\n 'They are divided into two groups, with a pair of nuclei expressing dorsally in the lateral ganglion and another less distinct group of nuclei located across the isthmus in the ventral ganglion.',\n 'This pattern is expressed at low levels which may account for the varying numbers of nuclei staining in the ventral ganglion.',\n 'Expression in larvae is seen as 1 or 2 large nuclei which later may divide to become the aforementioned neuropil.',\n 'Could these include the cells derived from G1 and/or G2 (RMFL/R or RMHL/R)']"
     },
     "execution_count": 48,
     "metadata": {},
     "output_type": "execute_result"
    }
   ],
   "source": [
    "sent_expr_pattern = [sentence for line in open(\"../extracted_sentences/sentences_exp_pattern.txt\") for sentence in get_documents_from_text(text=line.strip(), split_sentences=True) if len(sentence) > 20]\n",
    "sent_expr_pattern[0:10]"
   ],
   "metadata": {
    "collapsed": false,
    "pycharm": {
     "name": "#%%\n"
    }
   }
  },
  {
   "cell_type": "code",
   "execution_count": 49,
   "outputs": [
    {
     "data": {
      "text/plain": "['Neuronal mCherry expression was observed in L1 larvae, and neuronal and intestinal mCherry expression persisted throughout larval development and into adulthood',\n 'In the mature gonad staining appeared to be in the two sets of two large toroidal epithelial cell, Ut-1 and Ut-2',\n 'About 35 hours after hatching, mid-L3 males express mab-20::GFP in the 9 R(n) cells that give rise to the ray precursor clusters',\n 'After the first a/p division in the AB lineage, as well as after a/p divisions in other lineages, authors invariably see higher levels of staining in the nucleus of the anterior sister than in the nucleus of its posterior sister',\n 'During morphogenesis, this expression became restricted to a small subset of head neuronal precursors',\n 'ins-23p::VENUS was observed in head and tail neurons at the dauer arrest stage',\n 'DAF-28::mCherry was efficiently secreted upon expression in L1 stage, as detected by its uptake by endocytic scavenger cells, coelomocytes',\n 'prg-1 mRNA expressed in all life stages with highest expression detected in young adults and adults',\n 'prde-1 mRNAs were detected in PLM neurons as well as in germ cells',\n 'In the intestinal cells, GFP fluorescence could be detected from the late embryonic stage onward']"
     },
     "execution_count": 49,
     "metadata": {},
     "output_type": "execute_result"
    }
   ],
   "source": [
    "sent_expr_pattern_clean = list(set([sent.strip(' ').strip('.;,/-|') for sent in sent_expr_pattern]))\n",
    "sent_expr_pattern_clean[0:10]"
   ],
   "metadata": {
    "collapsed": false,
    "pycharm": {
     "name": "#%%\n"
    }
   }
  },
  {
   "cell_type": "code",
   "execution_count": 50,
   "outputs": [
    {
     "data": {
      "text/plain": "21998"
     },
     "execution_count": 50,
     "metadata": {},
     "output_type": "execute_result"
    }
   ],
   "source": [
    "corpus = sent_expr_pattern_clean\n",
    "len(corpus)"
   ],
   "metadata": {
    "collapsed": false,
    "pycharm": {
     "name": "#%%\n"
    }
   }
  },
  {
   "cell_type": "code",
   "execution_count": 51,
   "outputs": [],
   "source": [
    "embedder = SentenceTransformer('all-MiniLM-L6-v2')\n",
    "corpus_embeddings = embedder.encode(corpus)"
   ],
   "metadata": {
    "collapsed": false,
    "pycharm": {
     "name": "#%%\n"
    }
   }
  },
  {
   "cell_type": "code",
   "execution_count": 54,
   "outputs": [
    {
     "data": {
      "text/plain": "Text(0.5, 1.0, 'Elbow curve')"
     },
     "execution_count": 54,
     "metadata": {},
     "output_type": "execute_result"
    },
    {
     "data": {
      "text/plain": "<Figure size 1080x360 with 1 Axes>",
      "image/png": "[encoded data removed]"
     },
     "metadata": {
      "needs_background": "light"
     },
     "output_type": "display_data"
    }
   ],
   "source": [
    "distorsions = []\n",
    "for k in range(2, 100):\n",
    "    clustering_model = KMeans(n_clusters=k)\n",
    "    clustering_model.fit(corpus_embeddings)\n",
    "    distorsions.append(clustering_model.inertia_)\n",
    "\n",
    "fig = plt.figure(figsize=(15, 5))\n",
    "plt.plot(range(2, 100), distorsions)\n",
    "plt.grid(True)\n",
    "plt.title('Elbow curve')"
   ],
   "metadata": {
    "collapsed": false,
    "pycharm": {
     "name": "#%%\n"
    }
   }
  },
  {
   "cell_type": "code",
   "execution_count": null,
   "outputs": [],
   "source": [
    "num_clusters = 5\n",
    "clustering_model = KMeans(n_clusters=num_clusters)\n",
    "clustering_model.fit(corpus_embeddings)\n",
    "cluster_assignment = clustering_model.labels_\n",
    "\n",
    "clustered_sentences = [[] for i in range(num_clusters)]\n",
    "for sentence_id, cluster_id in enumerate(cluster_assignment):\n",
    "    clustered_sentences[cluster_id].append(corpus[sentence_id])"
   ],
   "metadata": {
    "collapsed": false,
    "pycharm": {
     "name": "#%%\n"
    }
   }
  }
 ],
 "metadata": {
  "kernelspec": {
   "display_name": "Python 3",
   "language": "python",
   "name": "python3"
  },
  "language_info": {
   "codemirror_mode": {
    "name": "ipython",
    "version": 2
   },
   "file_extension": ".py",
   "mimetype": "text/x-python",
   "name": "python",
   "nbconvert_exporter": "python",
   "pygments_lexer": "ipython2",
   "version": "2.7.6"
  }
 },
 "nbformat": 4,
 "nbformat_minor": 0
}