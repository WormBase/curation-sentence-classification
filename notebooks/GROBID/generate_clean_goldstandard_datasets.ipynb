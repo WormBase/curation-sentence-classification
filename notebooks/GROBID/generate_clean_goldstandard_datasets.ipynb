{
 "cells": [
  {
   "cell_type": "code",
   "execution_count": 1,
   "metadata": {
    "ExecuteTime": {
     "end_time": "2024-03-04T19:12:40.031403598Z",
     "start_time": "2024-03-04T19:12:39.474639777Z"
    }
   },
   "outputs": [],
   "source": [
    "from sentence_classification.preprocess import clean_sentences_with_papid, read_sentences_from_file_with_papid, \\\n",
    "    clean_sentence\n",
    "from random import shuffle"
   ]
  },
  {
   "cell_type": "code",
   "execution_count": 3,
   "metadata": {
    "ExecuteTime": {
     "end_time": "2024-03-04T19:13:02.977788303Z",
     "start_time": "2024-03-04T19:13:01.813397925Z"
    }
   },
   "outputs": [],
   "source": [
    "expression_file_content = [line.split(\"\\t\") for line in open(\"../../gold_standard_sentences/expression.tsv\")]\n",
    "expression_data = expression_file_content[1:]\n",
    "expression_data = [row for row in expression_data if row[2]]\n",
    "\n",
    "kinaseact_file_content = [line.split(\"\\t\") for line in open(\"../../gold_standard_sentences/kinase_activity.tsv\")]\n",
    "kinaseact_data = kinaseact_file_content[1:]\n",
    "kinaseact_data = [row for row in kinaseact_data if row[2]]\n",
    "\n",
    "cleaned_expression_data = []\n",
    "for row in expression_data:\n",
    "    if row[7]:\n",
    "        cleaned_expression_data.append([clean_sentence(row[7]), 0 if row[12] != \"\" else 1 if row[13] != \"\" else 2 if row[14] != \"\" else 3 if row[15] != \"\" else 4 if row[16] != \"\" else 5 if row[17] != \"\" else 6 if row[18] != \"\" else 7 if row[19] != \"\" else 8 if row[20] != \"\" else 9, \"positive\" if row[22] != \"\" else \"negative\" if row[23] != \"\" else \"both\" if row[24] != \"\" else \"neutral\"])\n",
    "\n",
    "cleaned_kinaseact_data = []\n",
    "for row in kinaseact_data:\n",
    "    if row[7]:\n",
    "        cleaned_kinaseact_data.append([clean_sentence(row[7]), 0 if row[12] != \"\" else 1 if row[13] != \"\" else 2 if row[14] != \"\" else 3 if row[15] != \"\" else 4 if row[16] != \"\" else 5 if row[17] != \"\" else 6 if row[18] != \"\" else 7 if row[19] != \"\" else 8 if row[20] != \"\" else 9, \"positive\" if row[22] != \"\" else \"negative\" if row[23] != \"\" else \"both\" if row[24] != \"\" else \"neutral\"])\n",
    "\n",
    "cleaned_expression_data_orig = cleaned_expression_data[:]\n",
    "cleaned_kinaseact_data_orig = cleaned_kinaseact_data[:]\n",
    "\n",
    "neg_sent_otherexpr = read_sentences_from_file_with_papid(\"../../extracted_sentences/GROBID_neg_sentences_expr.txt\")\n",
    "neg_sent_otherexpr_cleaned = clean_sentences_with_papid(neg_sent_otherexpr)\n",
    "shuffle(neg_sent_otherexpr_cleaned)\n",
    "neg_sent_otherexpr_cleaned = neg_sent_otherexpr_cleaned[0:500]\n",
    "cleaned_expression_data.extend([row[1], 9, \"NA\"] for row in neg_sent_otherexpr_cleaned)\n",
    "\n",
    "neg_sent_kineaseact = read_sentences_from_file_with_papid(\"../../extracted_sentences/GROBID_neg_sentences_kinase.txt\")\n",
    "neg_sent_kineaseact_cleaned = clean_sentences_with_papid(neg_sent_kineaseact)\n",
    "shuffle(neg_sent_kineaseact_cleaned)\n",
    "neg_sent_kineaseact_cleaned = neg_sent_kineaseact_cleaned[0:500]\n",
    "cleaned_kinaseact_data.extend([row[1], 9, \"NA\"] for row in neg_sent_kineaseact_cleaned)\n",
    "\n",
    "with open(\"../../gold_standard_sentences/GROBID_clean_with_negative_otherexpr.csv\", \"w\") as f:\n",
    "    for line in [\"\\t\".join(map(str, line_arr)) for line_arr in cleaned_expression_data]:\n",
    "        f.write(line + \"\\n\")\n",
    "\n",
    "with open(\"../../gold_standard_sentences/GROBID_clean_with_negative_kinaseact.csv\", \"w\") as f:\n",
    "    for line in [\"\\t\".join(map(str, line_arr)) for line_arr in cleaned_kinaseact_data]:\n",
    "        f.write(line + \"\\n\")"
   ]
  },
  {
   "cell_type": "code",
   "execution_count": null,
   "outputs": [],
   "source": [],
   "metadata": {
    "collapsed": false,
    "is_executing": true
   }
  }
 ],
 "metadata": {
  "kernelspec": {
   "display_name": "Python 3 (ipykernel)",
   "language": "python",
   "name": "python3"
  },
  "language_info": {
   "codemirror_mode": {
    "name": "ipython",
    "version": 3
   },
   "file_extension": ".py",
   "mimetype": "text/x-python",
   "name": "python",
   "nbconvert_exporter": "python",
   "pygments_lexer": "ipython3",
   "version": "3.8.8"
  }
 },
 "nbformat": 4,
 "nbformat_minor": 1
}
