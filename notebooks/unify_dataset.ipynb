{
 "cells": [
  {
   "metadata": {},
   "cell_type": "markdown",
   "source": "### Positive sentences from gold standard",
   "id": "fcc9cdeb06a1742b"
  },
  {
   "metadata": {
    "ExecuteTime": {
     "end_time": "2024-11-18T19:10:36.682675Z",
     "start_time": "2024-11-18T19:10:36.680246Z"
    }
   },
   "cell_type": "code",
   "source": "from common import get_pmid_from_wbpaperid",
   "id": "5c6345a59e1f43cc",
   "outputs": [],
   "execution_count": 5
  },
  {
   "metadata": {
    "ExecuteTime": {
     "end_time": "2024-11-18T19:10:36.720462Z",
     "start_time": "2024-11-18T19:10:36.712521Z"
    }
   },
   "cell_type": "code",
   "source": [
    "expression_gold_sent_data = [line.strip().split(\"\\t\") for line in open(\"../gold_standard_sentences/GROBID_clean_without_negative_otherexpr_with_PMIDs.csv\")]\n",
    "expression_gold_sent_data_cleaned = [[row[0], row[1], int(row[2])] for row in expression_gold_sent_data]\n",
    "expression_gold_sent_data_3_classes = [(row[0], row[1], 1 if row[2] in [0, 3] else 0, 1 if row[2] in [0, 1, 3, 4] else 0, 1 if row[2] < 9 else 0, \"GOLD\") for row in expression_gold_sent_data_cleaned]\n",
    "\n",
    "kinaseact_gold_sent_data = [line.strip().split(\"\\t\") for line in open(\"../gold_standard_sentences/GROBID_clean_without_negative_kinaseact_with_PMIDs.csv\")]\n",
    "kinaseact_gold_sent_data_cleaned = [[row[0], row[1], int(row[2])] for row in kinaseact_gold_sent_data]\n",
    "kinaseact_gold_sent_data_3_classes = [(row[0], row[1], 1 if row[2] in [0, 3] else 0, 1 if row[2] in [0, 1, 3, 4] else 0, 1 if row[2] < 9 else 0, \"GOLD\") for row in kinaseact_gold_sent_data_cleaned]"
   ],
   "id": "96a9542ecb82dbcd",
   "outputs": [],
   "execution_count": 6
  },
  {
   "metadata": {},
   "cell_type": "markdown",
   "source": "### Positive and negative from 1000 random sentences",
   "id": "21d365fc045bef39"
  },
  {
   "metadata": {
    "ExecuteTime": {
     "end_time": "2024-11-18T19:28:07.769783Z",
     "start_time": "2024-11-18T19:10:36.756316Z"
    }
   },
   "cell_type": "code",
   "source": [
    "expression_validation_data = [line.strip().split(\"\\t\") for line in open(\"../validation sentences/expression_1000.tsv\")]\n",
    "expression_validation_data_3_classes = [(row[0], row[1], int(row[7] == \"TRUE\"), int(row[8] == \"TRUE\"), int(row[9] == \"TRUE\"), \"1000\") for row in expression_validation_data[1:] if len(row) > 10 and row[10].lower() not in [\"y\", \"yes\", \"true\", \"t\"]][:1000]\n",
    "expression_validation_data_3_classes = [(get_pmid_from_wbpaperid(row[0]), row[1], row[2], row[3], row[4], row[5]) for row in expression_validation_data_3_classes]\n",
    "\n",
    "kinaseact_validation_data = [line.strip().split(\"\\t\") for line in open(\"../validation sentences/kinaseact_1000.tsv\")]\n",
    "kinaseact_validation_data_3_classes = [(row[0], row[1], int(row[5] == \"TRUE\"), int(row[6] == \"TRUE\"), int(row[7] == \"TRUE\"), \"1000\") for row in kinaseact_validation_data[1:] if len(row) > 5 and (len(row) < 9 or row[8] != \"YES\")][:1000]\n",
    "kinaseact_validation_data_3_classes = [(get_pmid_from_wbpaperid(row[0]), row[1], row[2], row[3], row[4], row[5]) for row in kinaseact_validation_data_3_classes]"
   ],
   "id": "caaf898d35a34beb",
   "outputs": [],
   "execution_count": 7
  },
  {
   "metadata": {},
   "cell_type": "markdown",
   "source": "### Negative sentences",
   "id": "fff9442b3f7fc783"
  },
  {
   "metadata": {
    "ExecuteTime": {
     "end_time": "2024-11-18T19:37:03.062951Z",
     "start_time": "2024-11-18T19:28:07.781969Z"
    }
   },
   "cell_type": "code",
   "source": [
    "expression_negative_data = [line.strip().split(\"\\t\") for line in open(\"../negative_sentences_validated/GROBID_neg_sentences_expr.tsv\")]\n",
    "expression_negative_data_3_classes = [(row[0], row[1], 0, 0, 0, \"NEGATIVE\") for row in expression_negative_data[1:] if row[2] == \"Y\" and (len(row) < 5 or row[4] != \"Y\")][:500]\n",
    "expression_negative_data_3_classes = [(get_pmid_from_wbpaperid(row[0]), row[1], row[2], row[3], row[4], row[5]) for row in expression_negative_data_3_classes]\n",
    "\n",
    "kinase_negative_data = [line.strip().split(\"\\t\") for line in open(\"../negative_sentences_validated/GROBID_neg_sentences_kinase.tsv\")]\n",
    "kinase_negative_data_3_classes = [(row[0], row[1], 0, 0, 0, \"NEGATIVE\") for row in kinase_negative_data[1:] if row[2] == \"YES\" and (len(row) < 5 or row[4] != \"YES\")][:500]\n",
    "kinase_negative_data_3_classes = [(get_pmid_from_wbpaperid(row[0]), row[1], row[2], row[3], row[4], row[5]) for row in kinase_negative_data_3_classes]"
   ],
   "id": "2e9c981562826060",
   "outputs": [],
   "execution_count": 8
  },
  {
   "metadata": {},
   "cell_type": "markdown",
   "source": "### Complete datasets",
   "id": "c9dfc74b87845dbc"
  },
  {
   "metadata": {
    "ExecuteTime": {
     "end_time": "2024-11-18T19:37:03.083705Z",
     "start_time": "2024-11-18T19:37:03.077378Z"
    }
   },
   "cell_type": "code",
   "source": [
    "expression_unified_ds = []\n",
    "sentences_already_in_ds = set()\n",
    "for line in [*expression_gold_sent_data_3_classes, *expression_validation_data_3_classes, *expression_negative_data_3_classes]:\n",
    "    if line[1] not in sentences_already_in_ds:\n",
    "        expression_unified_ds.append(line)\n",
    "        sentences_already_in_ds.add(line[1])\n"
   ],
   "id": "65e62701dc27285b",
   "outputs": [],
   "execution_count": 9
  },
  {
   "metadata": {
    "ExecuteTime": {
     "end_time": "2024-11-18T19:37:03.120927Z",
     "start_time": "2024-11-18T19:37:03.116486Z"
    }
   },
   "cell_type": "code",
   "source": [
    "kinaseact_unified_ds = []\n",
    "sentences_already_in_ds = set()\n",
    "for line in [*kinaseact_gold_sent_data_3_classes, *kinaseact_validation_data_3_classes, *kinase_negative_data_3_classes]:\n",
    "    if line[1] not in sentences_already_in_ds:\n",
    "        kinaseact_unified_ds.append(line)\n",
    "        sentences_already_in_ds.add(line[1])"
   ],
   "id": "375dc3799b360094",
   "outputs": [],
   "execution_count": 10
  },
  {
   "metadata": {},
   "cell_type": "markdown",
   "source": "### Mark training and testing sets",
   "id": "470cc920d4aedcc0"
  },
  {
   "metadata": {
    "ExecuteTime": {
     "end_time": "2024-11-18T19:37:03.170577Z",
     "start_time": "2024-11-18T19:37:03.167110Z"
    }
   },
   "cell_type": "code",
   "source": [
    "from random import shuffle\n",
    "import math\n",
    "\n",
    "# indices_expr = [i for i in range(len(expression_unified_ds))]\n",
    "# shuffle(indices_expr)\n",
    "# training_size_expr = math.ceil(len(expression_unified_ds) * 0.6)\n",
    "# training_indices_expr = set(indices_expr[0:training_size_expr])\n",
    "# test_indices_expr = set(indices_expr[training_size_expr:])\n",
    "# expression_unified_ds = [(*row, \"TRAINING\" if idx in training_indices_expr else \"TESTING\") for idx, row in enumerate(expression_unified_ds)]\n",
    "# \n",
    "# indices_kinase = [i for i in range(len(kinaseact_unified_ds))]\n",
    "# shuffle(indices_kinase)\n",
    "# training_size_kinase = math.ceil(len(kinaseact_unified_ds) * 0.8)\n",
    "# training_indices_kinase = set(indices_kinase[0:training_size_kinase])\n",
    "# test_indices_kinase = set(indices_kinase[training_size_kinase:])\n",
    "# kinaseact_unified_ds = [(*row, \"TRAINING\" if idx in training_indices_kinase else \"TESTING\") for idx, row in enumerate(kinaseact_unified_ds)]"
   ],
   "id": "231b257eb6fd3171",
   "outputs": [],
   "execution_count": 11
  },
  {
   "metadata": {
    "ExecuteTime": {
     "end_time": "2024-11-18T19:37:03.228763Z",
     "start_time": "2024-11-18T19:37:03.216128Z"
    }
   },
   "cell_type": "code",
   "source": [
    "with open(\"../unified_dataset/expression.tsv\", \"w\") as f:\n",
    "    f.write(\"PMID\\tSENTENCE\\tFULLY_CURATABLE\\tPARTIALLY_CURATABLE\\tRELATED_LANGUAGE\\tSOURCE\\n\")\n",
    "    for line in [\"\\t\".join(map(str, line_arr)) for line_arr in expression_unified_ds]:\n",
    "        f.write(line + \"\\n\")\n",
    "\n",
    "with open(\"../unified_dataset/kinaseact.tsv\", \"w\") as f:\n",
    "    f.write(\"PMID\\tSENTENCE\\tFULLY_CURATABLE\\tPARTIALLY_CURATABLE\\tRELATED_LANGUAGE\\tSOURCE\\n\")\n",
    "    for line in [\"\\t\".join(map(str, line_arr)) for line_arr in kinaseact_unified_ds]:\n",
    "        f.write(line + \"\\n\")"
   ],
   "id": "b80396f32d53be42",
   "outputs": [],
   "execution_count": 12
  }
 ],
 "metadata": {
  "kernelspec": {
   "display_name": "Python 3",
   "language": "python",
   "name": "python3"
  },
  "language_info": {
   "codemirror_mode": {
    "name": "ipython",
    "version": 2
   },
   "file_extension": ".py",
   "mimetype": "text/x-python",
   "name": "python",
   "nbconvert_exporter": "python",
   "pygments_lexer": "ipython2",
   "version": "2.7.6"
  }
 },
 "nbformat": 4,
 "nbformat_minor": 5
}
